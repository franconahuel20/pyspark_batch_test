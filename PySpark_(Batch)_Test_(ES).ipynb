{
  "nbformat": 4,
  "nbformat_minor": 0,
  "metadata": {
    "colab": {
      "provenance": []
    },
    "kernelspec": {
      "name": "python3",
      "display_name": "Python 3"
    },
    "language_info": {
      "name": "python"
    },
    "accelerator": "TPU"
  },
  "cells": [
    {
      "cell_type": "markdown",
      "source": [
        "# **PySpark (Batch) Test (ES)**\n",
        "# Autor: Herrera, Franco Nahuel"
      ],
      "metadata": {
        "id": "BsI_dJsnbbug"
      }
    },
    {
      "cell_type": "markdown",
      "source": [
        "## **Datasets**\n",
        "En este workshop se van a utilizar dos datasets externos denominados [dat-ab-usos-2020.csv](https://datos.gob.ar/dataset/transporte-sube---cantidad-transacciones-usos-por-fecha/archivo/transporte_5de00d5f-2b36-491c-8660-426179f32e61) y [dat-ab-usos-2021.csv](https://datos.gob.ar/dataset/transporte-sube---cantidad-transacciones-usos-por-fecha/archivo/transporte_c01fc5e8-062f-424a-94c1-cfac1b33a129). Contienen información relacionada con las transacciones utilizando la tarjeta [SUBE(Sistema Único de Boleto Electrónico)](https://es.wikipedia.org/wiki/Sistema_%C3%9Anico_de_Boleto_Electr%C3%B3nico) en la República Argentina durante los años 2020 y 2021. Estas son las versiones sucias del conjunto de datos por lo que se deberá realizar una limpieza.\n",
        "\n",
        "Los conjunto de datos contendrán la siguiente información:"
      ],
      "metadata": {
        "id": "2oVbxQMqVKpf"
      }
    },
    {
      "cell_type": "markdown",
      "source": [
        "Título de la columna|Tipo de dato|Descripción\n",
        "---|---|---\n",
        "dia_transporte|Fecha ISO-8601 (date)|día de transporte informado \n",
        "nombre_empresa|Texto (string)|nombre de la empresa de transporte \n",
        "linea| Texto (string)|descripción de la línea \n",
        "amba| Texto (string)|SI/NO \n",
        "tipo_transporte| Texto (string)|colectivo, tren, subte, lanchas  \n",
        "jurisdiccion| Texto (string)|tipo de jurisdicción de la línea (NACIONAL, PROVINCIAL, MUNICIPAL): en caso de subte queda vacío \n",
        "provincia| Texto (string)|nombre de la provincia, en caso de ser jurisdicción provincial o municipal. Si es jurisdicción nacional figura JN. En caso de subte queda vacío \n",
        "municipio| Texto (string)|nombre del municipio, en caso de ser jurisdicción municipal. SI es jurisdicción nacional o provincial figura SD o SN respectivamente. En caso de subte queda vacío \n",
        "cantidad| Número entero (integer)|cantidad de transacciones de uso / check-in / checkout sin checkin / Venta de boletos, neteadas de eventuales reversas \n",
        "dato_preliminar| Texto (string)|SI/NO"
      ],
      "metadata": {
        "id": "WQ9xO1hDVORo"
      }
    },
    {
      "cell_type": "markdown",
      "source": [
        "También vamos a desarrollar manualmente dos dataframes:\n",
        "- El primero va a representar el pago de subsidios al transporte de pasajeros en cada provincia de la República Argentina según la [resolución 276/2020](http://servicios.infoleg.gob.ar/infolegInternet/anexos/340000-344999/344443/norma.htm#:~:text=Que%2C%20posteriormente%2C%20se%20aprob%C3%B3%20la,QUINIENTOS%20MILLONES%20(%24%2010.500.000.000.) para el año 2021. Vamos a basarnos en la [tabla](http://servicios.infoleg.gob.ar/infolegInternet/anexos/340000-344999/344443/res196-3.jpg) presente en dicha resolución. También vamos a suponer que el estado nacional paga a cada provincia el día 10 de cada mes. Va a tener la siguiente estructura:\n",
        "\n",
        "Título de la columna|Tipo de dato|Descripción\n",
        "---|---|---\n",
        "fecha_pago|Fecha ISO-8601 (date)|día de pago del subsidio \n",
        "provincia|Texto (string)|nombre de la provincia\n",
        "total| Número entero (integer)|Monto total pagado\n",
        "\n",
        "- El segundo va a representar la población de cada provincia de la República Argentina según el [censo 2010](https://es.wikipedia.org/wiki/Censo_argentino_de_2010). Va a tener la siguiente estructura:\n",
        "\n",
        "Título de la columna|Tipo de dato|Descripción\n",
        "---|---|---\n",
        "provincia_nombre|Texto (string)|nombre de la provincia\n",
        "poblacion_total|Número entero (integer)|población total."
      ],
      "metadata": {
        "id": "5ThzD8F7uTzM"
      }
    },
    {
      "cell_type": "markdown",
      "source": [
        "## **Configuración de una sesión de PySpark**\n",
        "\n",
        "Antes de que podamos empezar a procesar nuestros datos, necesitamos configurar una sesión de Pyspark para Google Colab. "
      ],
      "metadata": {
        "id": "WrE2icmYdLCe"
      }
    },
    {
      "cell_type": "code",
      "execution_count": null,
      "metadata": {
        "colab": {
          "base_uri": "https://localhost:8080/"
        },
        "id": "xCpkb9VsXOmI",
        "outputId": "7b31bdde-8c7d-464d-fe82-b2679a29382d"
      },
      "outputs": [
        {
          "output_type": "stream",
          "name": "stdout",
          "text": [
            "Get:1 http://security.ubuntu.com/ubuntu bionic-security InRelease [88.7 kB]\n",
            "Ign:2 https://developer.download.nvidia.com/compute/cuda/repos/ubuntu1804/x86_64  InRelease\n",
            "Hit:3 http://archive.ubuntu.com/ubuntu bionic InRelease\n",
            "Get:4 https://cloud.r-project.org/bin/linux/ubuntu bionic-cran40/ InRelease [3,626 B]\n",
            "Get:5 http://ppa.launchpad.net/c2d4u.team/c2d4u4.0+/ubuntu bionic InRelease [15.9 kB]\n",
            "Ign:6 https://developer.download.nvidia.com/compute/machine-learning/repos/ubuntu1804/x86_64  InRelease\n",
            "Get:7 http://archive.ubuntu.com/ubuntu bionic-updates InRelease [88.7 kB]\n",
            "Get:8 https://developer.download.nvidia.com/compute/cuda/repos/ubuntu1804/x86_64  Release [696 B]\n",
            "Hit:9 https://developer.download.nvidia.com/compute/machine-learning/repos/ubuntu1804/x86_64  Release\n",
            "Get:10 https://developer.download.nvidia.com/compute/cuda/repos/ubuntu1804/x86_64  Release.gpg [836 B]\n",
            "Get:11 http://archive.ubuntu.com/ubuntu bionic-backports InRelease [74.6 kB]\n",
            "Hit:12 http://ppa.launchpad.net/cran/libgit2/ubuntu bionic InRelease\n",
            "Get:13 http://security.ubuntu.com/ubuntu bionic-security/restricted amd64 Packages [907 kB]\n",
            "Get:14 http://ppa.launchpad.net/deadsnakes/ppa/ubuntu bionic InRelease [15.9 kB]\n",
            "Get:15 http://security.ubuntu.com/ubuntu bionic-security/main amd64 Packages [2,728 kB]\n",
            "Get:16 http://security.ubuntu.com/ubuntu bionic-security/universe amd64 Packages [1,496 kB]\n",
            "Hit:17 http://ppa.launchpad.net/graphics-drivers/ppa/ubuntu bionic InRelease\n",
            "Get:19 https://developer.download.nvidia.com/compute/cuda/repos/ubuntu1804/x86_64  Packages [953 kB]\n",
            "Get:20 http://ppa.launchpad.net/c2d4u.team/c2d4u4.0+/ubuntu bionic/main Sources [1,950 kB]\n",
            "Get:21 http://archive.ubuntu.com/ubuntu bionic-updates/restricted amd64 Packages [941 kB]\n",
            "Get:22 http://archive.ubuntu.com/ubuntu bionic-updates/main amd64 Packages [3,165 kB]\n",
            "Get:23 http://archive.ubuntu.com/ubuntu bionic-updates/universe amd64 Packages [2,272 kB]\n",
            "Get:24 http://ppa.launchpad.net/c2d4u.team/c2d4u4.0+/ubuntu bionic/main amd64 Packages [999 kB]\n",
            "Get:25 http://ppa.launchpad.net/deadsnakes/ppa/ubuntu bionic/main amd64 Packages [45.3 kB]\n",
            "Fetched 15.7 MB in 4s (3,656 kB/s)\n",
            "Reading package lists...\n"
          ]
        }
      ],
      "source": [
        "%%bash\n",
        "apt-get update\n",
        "apt-get install openjdk-8-jdk-headless -qq > /dev/null\n",
        "wget -q http://archive.apache.org/dist/spark/spark-2.3.1/spark-2.3.1-bin-hadoop2.7.tgz\n",
        "tar xf spark-2.3.1-bin-hadoop2.7.tgz\n",
        "pip install -q findspark"
      ]
    },
    {
      "cell_type": "code",
      "source": [
        "import os\n",
        "os.environ[\"JAVA_HOME\"] = \"/usr/lib/jvm/java-8-openjdk-amd64\"\n",
        "os.environ[\"SPARK_HOME\"] = \"/content/spark-2.3.1-bin-hadoop2.7\"\n",
        "import findspark\n",
        "findspark.init()"
      ],
      "metadata": {
        "id": "79HuigFIcfRj"
      },
      "execution_count": null,
      "outputs": []
    },
    {
      "cell_type": "code",
      "source": [
        "from pyspark.sql import SparkSession\n",
        "spark = SparkSession.builder \\\n",
        "    .master(\"local[*]\") \\\n",
        "    .appName(\"PySpark_Test\") \\\n",
        "    .getOrCreate()\n",
        "sc = spark.sparkContext\n",
        "sc"
      ],
      "metadata": {
        "id": "gK27lKXFsD-t",
        "colab": {
          "base_uri": "https://localhost:8080/",
          "height": 196
        },
        "outputId": "f1509eb8-2543-41b8-fef6-090db1107f8f"
      },
      "execution_count": null,
      "outputs": [
        {
          "output_type": "execute_result",
          "data": {
            "text/plain": [
              "<SparkContext master=local[*] appName=PySpark_Test>"
            ],
            "text/html": [
              "\n",
              "        <div>\n",
              "            <p><b>SparkContext</b></p>\n",
              "\n",
              "            <p><a href=\"http://686003de4522:4040\">Spark UI</a></p>\n",
              "\n",
              "            <dl>\n",
              "              <dt>Version</dt>\n",
              "                <dd><code>v2.3.1</code></dd>\n",
              "              <dt>Master</dt>\n",
              "                <dd><code>local[*]</code></dd>\n",
              "              <dt>AppName</dt>\n",
              "                <dd><code>PySpark_Test</code></dd>\n",
              "            </dl>\n",
              "        </div>\n",
              "        "
            ]
          },
          "metadata": {},
          "execution_count": 3
        }
      ]
    },
    {
      "cell_type": "markdown",
      "source": [
        "## **Carga de datos**\n",
        "\n",
        "Primero se va a copiar los archivos de datos localmente. Utilizaremos `wget` y `head`, que normalmente son comandos del shell. En el entorno del notebook, podemos ejecutar cualquier comando de la shell utilizando el precursor `!`. El propósito de nuestros comandos de shell son los siguientes:\n",
        "\n",
        "- `wget` - Es un cliente HTTP que descargará nuestros archivos de datos y los guardará localmente en nuestro entorno del notebook.\n",
        "- `head` - Al igual que el comando `.head()` de Pandas, el comando del shell `head` imprime por defecto las 10 primeras líneas de un fichero. Puede especificar más o menos líneas si lo desea. \n",
        "\n",
        "Vamos a ejecutar la siguiente celda para sacar los archivos *sucios* localmente. Vamos a escribir los archivos en el directorio `/tmp` en el entorno del cuaderno.\n"
      ],
      "metadata": {
        "id": "q--xUIK8d14S"
      }
    },
    {
      "cell_type": "code",
      "source": [
        "!wget https://archivos-datos.transporte.gob.ar/upload/Dat_Ab_Usos/dat-ab-usos-2020.csv "
      ],
      "metadata": {
        "colab": {
          "base_uri": "https://localhost:8080/"
        },
        "id": "s3gS8cQ0X6MA",
        "outputId": "e4bd4619-d06e-45d6-bc5e-420542efc2b2"
      },
      "execution_count": null,
      "outputs": [
        {
          "output_type": "stream",
          "name": "stdout",
          "text": [
            "--2022-04-21 12:12:32--  https://archivos-datos.transporte.gob.ar/upload/Dat_Ab_Usos/dat-ab-usos-2020.csv\n",
            "Resolving archivos-datos.transporte.gob.ar (archivos-datos.transporte.gob.ar)... 190.220.16.243\n",
            "Connecting to archivos-datos.transporte.gob.ar (archivos-datos.transporte.gob.ar)|190.220.16.243|:443... connected.\n",
            "HTTP request sent, awaiting response... 200 OK\n",
            "Length: 42244065 (40M) [text/csv]\n",
            "Saving to: ‘dat-ab-usos-2020.csv’\n",
            "\n",
            "dat-ab-usos-2020.cs 100%[===================>]  40.29M  4.40MB/s    in 11s     \n",
            "\n",
            "2022-04-21 12:12:44 (3.81 MB/s) - ‘dat-ab-usos-2020.csv’ saved [42244065/42244065]\n",
            "\n"
          ]
        }
      ]
    },
    {
      "cell_type": "code",
      "source": [
        "!wget https://archivos-datos.transporte.gob.ar/upload/Dat_Ab_Usos/dat-ab-usos-2021.csv"
      ],
      "metadata": {
        "colab": {
          "base_uri": "https://localhost:8080/"
        },
        "id": "mYImoan-a-K6",
        "outputId": "7d69353c-f1c9-4cd1-ddb8-2cab3e13bf86"
      },
      "execution_count": null,
      "outputs": [
        {
          "output_type": "stream",
          "name": "stdout",
          "text": [
            "--2022-04-21 12:12:44--  https://archivos-datos.transporte.gob.ar/upload/Dat_Ab_Usos/dat-ab-usos-2021.csv\n",
            "Resolving archivos-datos.transporte.gob.ar (archivos-datos.transporte.gob.ar)... 190.220.16.243\n",
            "Connecting to archivos-datos.transporte.gob.ar (archivos-datos.transporte.gob.ar)|190.220.16.243|:443... connected.\n",
            "HTTP request sent, awaiting response... 200 OK\n",
            "Length: 49039779 (47M) [text/csv]\n",
            "Saving to: ‘dat-ab-usos-2021.csv’\n",
            "\n",
            "dat-ab-usos-2021.cs 100%[===================>]  46.77M  3.08MB/s    in 17s     \n",
            "\n",
            "2022-04-21 12:13:01 (2.78 MB/s) - ‘dat-ab-usos-2021.csv’ saved [49039779/49039779]\n",
            "\n"
          ]
        }
      ]
    },
    {
      "cell_type": "code",
      "source": [
        "!head dat-ab-usos-2020.csv\n",
        "!echo \"-------\"\n",
        "!head dat-ab-usos-2021.csv"
      ],
      "metadata": {
        "colab": {
          "base_uri": "https://localhost:8080/"
        },
        "id": "LG0D5N4VcCim",
        "outputId": "3a535dc5-c5b4-45ed-c000-b64768e16b6f"
      },
      "execution_count": null,
      "outputs": [
        {
          "output_type": "stream",
          "name": "stdout",
          "text": [
            "DIA_TRANSPORTE,\"NOMBRE_EMPRESA\",\"LINEA\",\"AMBA\",\"TIPO_TRANSPORTE\",\"JURISDICCION\",\"PROVINCIA\",\"MUNICIPIO\",CANTIDAD,\"DATO_PRELIMINAR\"\r\n",
            "2020-01-01,\"EMPRESA BATAN S.A.\",\"BS_AS_LINEA 715M\",\"NO\",\"COLECTIVO\",\"MUNICIPAL\",\"BUENOS AIRES\",\"GENERAL PUEYRREDON\",2154,\"NO\"\r\n",
            "2020-01-01,\"COMPAÑIA  DE TRANSPORTE VECINAL S.A.\",\"BS_AS_LINEA_326\",\"SI\",\"COLECTIVO\",\"PROVINCIAL\",\"BUENOS AIRES\",\"SN\",1492,\"NO\"\r\n",
            "2020-01-01,\"EMPRESA DE TRANSPORTE PERALTA RAMOS SACI\",\"BS_AS_LINEA_512\",\"NO\",\"COLECTIVO\",\"MUNICIPAL\",\"BUENOS AIRES\",\"GENERAL PUEYRREDON\",1889,\"NO\"\r\n",
            "2020-01-01,\"AUTOBUSES BUENOS AIRES S.R.L. – TRANSPORTE LARRAZABAL C.I.S.A. – UNION TRANSITORIA (UT)\",\"BS_AS_LINEA_514\",\"SI\",\"COLECTIVO\",\"MUNICIPAL\",\"BUENOS AIRES\",\"ALMIRANTE BROWN\",4669,\"NO\"\r\n",
            "2020-01-01,\"EL URBANO SRL\",\"BS_AS_LINEA_522\",\"SI\",\"COLECTIVO\",\"MUNICIPAL\",\"BUENOS AIRES\",\"LANUS\",187,\"NO\"\r\n",
            "2020-01-01,\"EL URBANO SRL\",\"BS_AS_LINEA_527\",\"SI\",\"COLECTIVO\",\"MUNICIPAL\",\"BUENOS AIRES\",\"LANUS\",543,\"NO\"\r\n",
            "2020-01-01,\"TRANSPORTES LINEA 123 S.A.C.I.\",\"BS_ASLINEA_123\",\"SI\",\"COLECTIVO\",\"NACIONAL\",\"JN\",\"SD\",1927,\"NO\"\r\n",
            "2020-01-01,\"TRANPORTES VEINTIDOS DE SETIEMBRE S.A.C.\",\"BSAS_LINEA_002\",\"SI\",\"COLECTIVO\",\"NACIONAL\",\"JN\",\"SD\",6408,\"NO\"\r\n",
            "2020-01-01,\"GENERAL TOMAS GUIDO S.A.C.I.F.\",\"BSAS_LINEA_009\",\"SI\",\"COLECTIVO\",\"NACIONAL\",\"JN\",\"SD\",5879,\"NO\"\r\n",
            "-------\n",
            "DIA_TRANSPORTE,\"NOMBRE_EMPRESA\",\"LINEA\",\"AMBA\",\"TIPO_TRANSPORTE\",\"JURISDICCION\",\"PROVINCIA\",\"MUNICIPIO\",CANTIDAD,\"DATO_PRELIMINAR\"\n",
            "2021-01-01,\"EMPRESA BATAN S.A.\",\"BS_AS_LINEA 715M\",\"NO\",\"COLECTIVO\",\"MUNICIPAL\",\"BUENOS AIRES\",\"GENERAL PUEYRREDON\",1466,\"NO\"\n",
            "2021-01-01,\"COMPAÑIA  DE TRANSPORTE VECINAL S.A.\",\"BS_AS_LINEA_326\",\"SI\",\"COLECTIVO\",\"PROVINCIAL\",\"BUENOS AIRES\",\"SN\",625,\"NO\"\n",
            "2021-01-01,\"EMPRESA DE TRANSPORTE PERALTA RAMOS SACI\",\"BS_AS_LINEA_512\",\"NO\",\"COLECTIVO\",\"MUNICIPAL\",\"BUENOS AIRES\",\"GENERAL PUEYRREDON\",1119,\"NO\"\n",
            "2021-01-01,\"AUTOBUSES BUENOS AIRES S.R.L. – TRANSPORTE LARRAZABAL C.I.S.A. – UNION TRANSITORIA (UT)\",\"BS_AS_LINEA_514\",\"SI\",\"COLECTIVO\",\"MUNICIPAL\",\"BUENOS AIRES\",\"ALMIRANTE BROWN\",2813,\"NO\"\n",
            "2021-01-01,\"EL URBANO SRL\",\"BS_AS_LINEA_522\",\"SI\",\"COLECTIVO\",\"MUNICIPAL\",\"BUENOS AIRES\",\"LANUS\",99,\"NO\"\n",
            "2021-01-01,\"EL URBANO SRL\",\"BS_AS_LINEA_527\",\"SI\",\"COLECTIVO\",\"MUNICIPAL\",\"BUENOS AIRES\",\"LANUS\",362,\"NO\"\n",
            "2021-01-01,\"TRANSPORTES LINEA 123 S.A.C.I.\",\"BS_ASLINEA_123\",\"SI\",\"COLECTIVO\",\"NACIONAL\",\"JN\",\"SD\",1070,\"NO\"\n",
            "2021-01-01,\"TRANPORTES VEINTIDOS DE SETIEMBRE S.A.C.\",\"BSAS_LINEA_002\",\"SI\",\"COLECTIVO\",\"NACIONAL\",\"JN\",\"SD\",4958,\"NO\"\n",
            "2021-01-01,\"GENERAL TOMAS GUIDO S.A.C.I.F.\",\"BSAS_LINEA_009\",\"SI\",\"COLECTIVO\",\"NACIONAL\",\"JN\",\"SD\",3154,\"NO\"\n"
          ]
        }
      ]
    },
    {
      "cell_type": "code",
      "source": [
        "import os\n",
        "base_dir = os.path.join('./')\n",
        "sube_2020_filename = os.path.join(base_dir, 'dat-ab-usos-2020.csv')\n",
        "sube_2021_filename = os.path.join(base_dir, 'dat-ab-usos-2021.csv')"
      ],
      "metadata": {
        "id": "yB4srItZmxwu"
      },
      "execution_count": null,
      "outputs": []
    },
    {
      "cell_type": "markdown",
      "source": [
        "## **Crear los DataFrames**\n",
        "\n",
        "Veamos qué hace Spark con nuestros datos y si puede analizar correctamente la salida. Para ello, primero cargaremos el contenido en un DataFrame utilizando el método `spark.read.csv()`. \n",
        "\n",
        "Pasaremos tres argumentos:\n",
        "\n",
        " - La ruta del archivo(s)\n",
        " - Una entrada para `header=True`. Nuestros archivos tienen una fila de cabecera, así que debemos especificar eso.\n",
        " -El segundo argumento es `inferSchema=True`, que sirve para que Spark infiera el tipo de dato de las columnas.\n",
        " - El último argumento que añadimos es la opción `delimiter`, que especifica el separador de campos. A menudo, en los archivos CSV es una coma (`,`).\n",
        "\n",
        "Dependiendo de lo familiarizado que el lector esté con Spark, se debe tener en cuenta que esta línea no lee realmente el contenido de los archivos todavía. Este comando es *perezoso*, lo que significa que no se ejecuta hasta que solicitemos a Spark que ejecute algún tipo de acción. Este es un punto crucial para entender cómo se comporta el procesamiento de datos dentro de Spark. "
      ],
      "metadata": {
        "id": "FHnqlaoBjPRr"
      }
    },
    {
      "cell_type": "code",
      "source": [
        "df_raw_2020 = spark.read.options(header=True,inferSchema=True,delimiter=\",\").csv(sube_2020_filename)\n",
        "df_raw_2021 = spark.read.options(header=True,inferSchema=True,delimiter=\",\").csv(sube_2021_filename)"
      ],
      "metadata": {
        "id": "WxmL0V7P36kh"
      },
      "execution_count": null,
      "outputs": []
    },
    {
      "cell_type": "markdown",
      "source": [
        "Vamos a proceder a crear el dataframe de los subsidios para el transporte para cada provincia."
      ],
      "metadata": {
        "id": "RXAwvCFy6LfL"
      }
    },
    {
      "cell_type": "markdown",
      "source": [
        "Vamos a utilizar los tipos de datos de la librería `pyspark.sql.types` para asignar formato acorde a las columnas. Vamos a agregar cada registro ingresándolos como un diccionario. Luego creamos el dataframe con la función `.createDataFrame()`"
      ],
      "metadata": {
        "id": "f-CL7nQVbn48"
      }
    },
    {
      "cell_type": "code",
      "source": [
        "from pyspark.sql.types import Row, StructType, StructField,IntegerType,StringType,DateType\n",
        "from datetime import datetime\n",
        "import pyspark.sql.functions as F\n",
        "\n",
        "data_subsidio_schema = [StructField(\"FECHA_PAGO\",DateType()),StructField(\"PROVINCIA\",StringType(),True),\n",
        "StructField(\"TOTAL\",IntegerType(),True)]\n",
        "\n",
        "data_subsidio_final_struct = StructType(fields=data_subsidio_schema)\n",
        "\n",
        "data_subsidio_elements = [\n",
        "\n",
        "{'FECHA_PAGO':datetime(2021,1,10),'PROVINCIA':'BUENOS AIRES','TOTAL':113585263},\n",
        "{'FECHA_PAGO':datetime(2021,2,10),'PROVINCIA':'BUENOS AIRES','TOTAL':113585263},\n",
        "{'FECHA_PAGO':datetime(2021,3,10),'PROVINCIA':'BUENOS AIRES','TOTAL':113585263},\n",
        "{'FECHA_PAGO':datetime(2021,4,10),'PROVINCIA':'BUENOS AIRES','TOTAL':113585263},\n",
        "{'FECHA_PAGO':datetime(2021,5,10),'PROVINCIA':'BUENOS AIRES','TOTAL':113585263},\n",
        "{'FECHA_PAGO':datetime(2021,6,10),'PROVINCIA':'BUENOS AIRES','TOTAL':113585263},\n",
        "{'FECHA_PAGO':datetime(2021,7,10),'PROVINCIA':'BUENOS AIRES','TOTAL':113585263},\n",
        "{'FECHA_PAGO':datetime(2021,8,10),'PROVINCIA':'BUENOS AIRES','TOTAL':113585263},\n",
        "{'FECHA_PAGO':datetime(2021,9,10),'PROVINCIA':'BUENOS AIRES','TOTAL':113585263},\n",
        "{'FECHA_PAGO':datetime(2021,10,10),'PROVINCIA':'BUENOS AIRES','TOTAL':113585263},\n",
        "{'FECHA_PAGO':datetime(2021,11,10),'PROVINCIA':'BUENOS AIRES','TOTAL':113585263},\n",
        "{'FECHA_PAGO':datetime(2021,12,10),'PROVINCIA':'BUENOS AIRES','TOTAL':113585263},\n",
        "{'FECHA_PAGO':datetime(2021,1,10),'PROVINCIA':'MENDOZA','TOTAL':181728248},\n",
        "{'FECHA_PAGO':datetime(2021,2,10),'PROVINCIA':'MENDOZA','TOTAL':181728248},\n",
        "{'FECHA_PAGO':datetime(2021,3,10),'PROVINCIA':'MENDOZA','TOTAL':181728248},\n",
        "{'FECHA_PAGO':datetime(2021,4,10),'PROVINCIA':'MENDOZA','TOTAL':181728248},\n",
        "{'FECHA_PAGO':datetime(2021,5,10),'PROVINCIA':'MENDOZA','TOTAL':181728248},\n",
        "{'FECHA_PAGO':datetime(2021,6,10),'PROVINCIA':'MENDOZA','TOTAL':181728248},\n",
        "{'FECHA_PAGO':datetime(2021,7,10),'PROVINCIA':'MENDOZA','TOTAL':181728248},\n",
        "{'FECHA_PAGO':datetime(2021,8,10),'PROVINCIA':'MENDOZA','TOTAL':181728248},\n",
        "{'FECHA_PAGO':datetime(2021,9,10),'PROVINCIA':'MENDOZA','TOTAL':181728248},\n",
        "{'FECHA_PAGO':datetime(2021,10,10),'PROVINCIA':'MENDOZA','TOTAL':181728248},\n",
        "{'FECHA_PAGO':datetime(2021,11,10),'PROVINCIA':'MENDOZA','TOTAL':181728248},\n",
        "{'FECHA_PAGO':datetime(2021,12,10),'PROVINCIA':'MENDOZA','TOTAL':181728248},\n",
        "{'FECHA_PAGO':datetime(2021,1,10),'PROVINCIA':'SAN JUAN','TOTAL':53808599},\n",
        "{'FECHA_PAGO':datetime(2021,2,10),'PROVINCIA':'SAN JUAN','TOTAL':53808599},\n",
        "{'FECHA_PAGO':datetime(2021,3,10),'PROVINCIA':'SAN JUAN','TOTAL':53808599},\n",
        "{'FECHA_PAGO':datetime(2021,4,10),'PROVINCIA':'SAN JUAN','TOTAL':53808599},\n",
        "{'FECHA_PAGO':datetime(2021,5,10),'PROVINCIA':'SAN JUAN','TOTAL':53808599},\n",
        "{'FECHA_PAGO':datetime(2021,6,10),'PROVINCIA':'SAN JUAN','TOTAL':53808599},\n",
        "{'FECHA_PAGO':datetime(2021,7,10),'PROVINCIA':'SAN JUAN','TOTAL':53808599},\n",
        "{'FECHA_PAGO':datetime(2021,8,10),'PROVINCIA':'SAN JUAN','TOTAL':53808599},\n",
        "{'FECHA_PAGO':datetime(2021,9,10),'PROVINCIA':'SAN JUAN','TOTAL':53808599},\n",
        "{'FECHA_PAGO':datetime(2021,10,10),'PROVINCIA':'SAN JUAN','TOTAL':53808599},\n",
        "{'FECHA_PAGO':datetime(2021,11,10),'PROVINCIA':'SAN JUAN','TOTAL':53808599},\n",
        "{'FECHA_PAGO':datetime(2021,12,10),'PROVINCIA':'SAN JUAN','TOTAL':53808599},\n",
        "{'FECHA_PAGO':datetime(2021,1,10),'PROVINCIA':'JUJUY','TOTAL':62841126},\n",
        "{'FECHA_PAGO':datetime(2021,2,10),'PROVINCIA':'JUJUY','TOTAL':62841126},\n",
        "{'FECHA_PAGO':datetime(2021,3,10),'PROVINCIA':'JUJUY','TOTAL':62841126},\n",
        "{'FECHA_PAGO':datetime(2021,4,10),'PROVINCIA':'JUJUY','TOTAL':62841126},\n",
        "{'FECHA_PAGO':datetime(2021,5,10),'PROVINCIA':'JUJUY','TOTAL':62841126},\n",
        "{'FECHA_PAGO':datetime(2021,6,10),'PROVINCIA':'JUJUY','TOTAL':62841126},\n",
        "{'FECHA_PAGO':datetime(2021,7,10),'PROVINCIA':'JUJUY','TOTAL':62841126},\n",
        "{'FECHA_PAGO':datetime(2021,8,10),'PROVINCIA':'JUJUY','TOTAL':62841126},\n",
        "{'FECHA_PAGO':datetime(2021,9,10),'PROVINCIA':'JUJUY','TOTAL':62841126},\n",
        "{'FECHA_PAGO':datetime(2021,10,10),'PROVINCIA':'JUJUY','TOTAL':62841126},\n",
        "{'FECHA_PAGO':datetime(2021,11,10),'PROVINCIA':'JUJUY','TOTAL':62841126},\n",
        "{'FECHA_PAGO':datetime(2021,12,10),'PROVINCIA':'JUJUY','TOTAL':62841126},\n",
        "{'FECHA_PAGO':datetime(2021,1,10),'PROVINCIA':'NEUQUÉN','TOTAL':30166633},\n",
        "{'FECHA_PAGO':datetime(2021,2,10),'PROVINCIA':'NEUQUÉN','TOTAL':30166633},\n",
        "{'FECHA_PAGO':datetime(2021,3,10),'PROVINCIA':'NEUQUÉN','TOTAL':30166633},\n",
        "{'FECHA_PAGO':datetime(2021,4,10),'PROVINCIA':'NEUQUÉN','TOTAL':30166633},\n",
        "{'FECHA_PAGO':datetime(2021,5,10),'PROVINCIA':'NEUQUÉN','TOTAL':30166633},\n",
        "{'FECHA_PAGO':datetime(2021,6,10),'PROVINCIA':'NEUQUÉN','TOTAL':30166633},\n",
        "{'FECHA_PAGO':datetime(2021,7,10),'PROVINCIA':'NEUQUÉN','TOTAL':30166633},\n",
        "{'FECHA_PAGO':datetime(2021,8,10),'PROVINCIA':'NEUQUÉN','TOTAL':30166633},\n",
        "{'FECHA_PAGO':datetime(2021,9,10),'PROVINCIA':'NEUQUÉN','TOTAL':30166633},\n",
        "{'FECHA_PAGO':datetime(2021,10,10),'PROVINCIA':'NEUQUÉN','TOTAL':30166633},\n",
        "{'FECHA_PAGO':datetime(2021,11,10),'PROVINCIA':'NEUQUÉN','TOTAL':30166633},\n",
        "{'FECHA_PAGO':datetime(2021,12,10),'PROVINCIA':'NEUQUÉN','TOTAL':30166633},\n",
        "{'FECHA_PAGO':datetime(2021,1,10),'PROVINCIA':'SANTA FE','TOTAL':226238771},\n",
        "{'FECHA_PAGO':datetime(2021,2,10),'PROVINCIA':'SANTA FE','TOTAL':226238771},\n",
        "{'FECHA_PAGO':datetime(2021,3,10),'PROVINCIA':'SANTA FE','TOTAL':226238771},\n",
        "{'FECHA_PAGO':datetime(2021,4,10),'PROVINCIA':'SANTA FE','TOTAL':226238771},\n",
        "{'FECHA_PAGO':datetime(2021,5,10),'PROVINCIA':'SANTA FE','TOTAL':226238771},\n",
        "{'FECHA_PAGO':datetime(2021,6,10),'PROVINCIA':'SANTA FE','TOTAL':226238771},\n",
        "{'FECHA_PAGO':datetime(2021,7,10),'PROVINCIA':'SANTA FE','TOTAL':226238771},\n",
        "{'FECHA_PAGO':datetime(2021,8,10),'PROVINCIA':'SANTA FE','TOTAL':226238771},\n",
        "{'FECHA_PAGO':datetime(2021,9,10),'PROVINCIA':'SANTA FE','TOTAL':226238771},\n",
        "{'FECHA_PAGO':datetime(2021,10,10),'PROVINCIA':'SANTA FE','TOTAL':226238771},\n",
        "{'FECHA_PAGO':datetime(2021,11,10),'PROVINCIA':'SANTA FE','TOTAL':226238771},\n",
        "{'FECHA_PAGO':datetime(2021,12,10),'PROVINCIA':'SANTA FE','TOTAL':226238771},\n",
        "{'FECHA_PAGO':datetime(2021,1,10),'PROVINCIA':'ENTRE RÍOS','TOTAL':51739340},\n",
        "{'FECHA_PAGO':datetime(2021,2,10),'PROVINCIA':'ENTRE RÍOS','TOTAL':51739340},\n",
        "{'FECHA_PAGO':datetime(2021,3,10),'PROVINCIA':'ENTRE RÍOS','TOTAL':51739340},\n",
        "{'FECHA_PAGO':datetime(2021,4,10),'PROVINCIA':'ENTRE RÍOS','TOTAL':51739340},\n",
        "{'FECHA_PAGO':datetime(2021,5,10),'PROVINCIA':'ENTRE RÍOS','TOTAL':51739340},\n",
        "{'FECHA_PAGO':datetime(2021,6,10),'PROVINCIA':'ENTRE RÍOS','TOTAL':51739340},\n",
        "{'FECHA_PAGO':datetime(2021,7,10),'PROVINCIA':'ENTRE RÍOS','TOTAL':51739340},\n",
        "{'FECHA_PAGO':datetime(2021,8,10),'PROVINCIA':'ENTRE RÍOS','TOTAL':51739340},\n",
        "{'FECHA_PAGO':datetime(2021,9,10),'PROVINCIA':'ENTRE RÍOS','TOTAL':51739340},\n",
        "{'FECHA_PAGO':datetime(2021,10,10),'PROVINCIA':'ENTRE RÍOS','TOTAL':51739340},\n",
        "{'FECHA_PAGO':datetime(2021,11,10),'PROVINCIA':'ENTRE RÍOS','TOTAL':51739340},\n",
        "{'FECHA_PAGO':datetime(2021,12,10),'PROVINCIA':'ENTRE RÍOS','TOTAL':51739340},\n",
        "{'FECHA_PAGO':datetime(2021,1,10),'PROVINCIA':'RÍO NEGRO','TOTAL':22263646},\n",
        "{'FECHA_PAGO':datetime(2021,2,10),'PROVINCIA':'RÍO NEGRO','TOTAL':22263646},\n",
        "{'FECHA_PAGO':datetime(2021,3,10),'PROVINCIA':'RÍO NEGRO','TOTAL':22263646},\n",
        "{'FECHA_PAGO':datetime(2021,4,10),'PROVINCIA':'RÍO NEGRO','TOTAL':22263646},\n",
        "{'FECHA_PAGO':datetime(2021,5,10),'PROVINCIA':'RÍO NEGRO','TOTAL':22263646},\n",
        "{'FECHA_PAGO':datetime(2021,6,10),'PROVINCIA':'RÍO NEGRO','TOTAL':22263646},\n",
        "{'FECHA_PAGO':datetime(2021,7,10),'PROVINCIA':'RÍO NEGRO','TOTAL':22263646},\n",
        "{'FECHA_PAGO':datetime(2021,8,10),'PROVINCIA':'RÍO NEGRO','TOTAL':22263646},\n",
        "{'FECHA_PAGO':datetime(2021,9,10),'PROVINCIA':'RÍO NEGRO','TOTAL':22263646},\n",
        "{'FECHA_PAGO':datetime(2021,10,10),'PROVINCIA':'RÍO NEGRO','TOTAL':22263646},\n",
        "{'FECHA_PAGO':datetime(2021,11,10),'PROVINCIA':'RÍO NEGRO','TOTAL':22263646},\n",
        "{'FECHA_PAGO':datetime(2021,12,10),'PROVINCIA':'RÍO NEGRO','TOTAL':22263646},\n",
        "{'FECHA_PAGO':datetime(2021,1,10),'PROVINCIA':'CHUBUT','TOTAL':31456364},\n",
        "{'FECHA_PAGO':datetime(2021,2,10),'PROVINCIA':'CHUBUT','TOTAL':31456364},\n",
        "{'FECHA_PAGO':datetime(2021,3,10),'PROVINCIA':'CHUBUT','TOTAL':31456364},\n",
        "{'FECHA_PAGO':datetime(2021,4,10),'PROVINCIA':'CHUBUT','TOTAL':31456364},\n",
        "{'FECHA_PAGO':datetime(2021,5,10),'PROVINCIA':'CHUBUT','TOTAL':31456364},\n",
        "{'FECHA_PAGO':datetime(2021,6,10),'PROVINCIA':'CHUBUT','TOTAL':31456364},\n",
        "{'FECHA_PAGO':datetime(2021,7,10),'PROVINCIA':'CHUBUT','TOTAL':31456364},\n",
        "{'FECHA_PAGO':datetime(2021,8,10),'PROVINCIA':'CHUBUT','TOTAL':31456364},\n",
        "{'FECHA_PAGO':datetime(2021,9,10),'PROVINCIA':'CHUBUT','TOTAL':31456364},\n",
        "{'FECHA_PAGO':datetime(2021,10,10),'PROVINCIA':'CHUBUT','TOTAL':31456364},\n",
        "{'FECHA_PAGO':datetime(2021,11,10),'PROVINCIA':'CHUBUT','TOTAL':31456364},\n",
        "{'FECHA_PAGO':datetime(2021,12,10),'PROVINCIA':'CHUBUT','TOTAL':31456364},\n",
        "{'FECHA_PAGO':datetime(2021,1,10),'PROVINCIA':'CHACO','TOTAL':37540408},\n",
        "{'FECHA_PAGO':datetime(2021,2,10),'PROVINCIA':'CHACO','TOTAL':37540408},\n",
        "{'FECHA_PAGO':datetime(2021,3,10),'PROVINCIA':'CHACO','TOTAL':37540408},\n",
        "{'FECHA_PAGO':datetime(2021,4,10),'PROVINCIA':'CHACO','TOTAL':37540408},\n",
        "{'FECHA_PAGO':datetime(2021,5,10),'PROVINCIA':'CHACO','TOTAL':37540408},\n",
        "{'FECHA_PAGO':datetime(2021,6,10),'PROVINCIA':'CHACO','TOTAL':37540408},\n",
        "{'FECHA_PAGO':datetime(2021,7,10),'PROVINCIA':'CHACO','TOTAL':37540408},\n",
        "{'FECHA_PAGO':datetime(2021,8,10),'PROVINCIA':'CHACO','TOTAL':37540408},\n",
        "{'FECHA_PAGO':datetime(2021,9,10),'PROVINCIA':'CHACO','TOTAL':37540408},\n",
        "{'FECHA_PAGO':datetime(2021,10,10),'PROVINCIA':'CHACO','TOTAL':37540408},\n",
        "{'FECHA_PAGO':datetime(2021,11,10),'PROVINCIA':'CHACO','TOTAL':37540408},\n",
        "{'FECHA_PAGO':datetime(2021,12,10),'PROVINCIA':'CHACO','TOTAL':37540408},\n",
        "{'FECHA_PAGO':datetime(2021,1,10),'PROVINCIA':'CATAMARCA','TOTAL':18657491},\n",
        "{'FECHA_PAGO':datetime(2021,2,10),'PROVINCIA':'CATAMARCA','TOTAL':18657491},\n",
        "{'FECHA_PAGO':datetime(2021,3,10),'PROVINCIA':'CATAMARCA','TOTAL':18657491},\n",
        "{'FECHA_PAGO':datetime(2021,4,10),'PROVINCIA':'CATAMARCA','TOTAL':18657491},\n",
        "{'FECHA_PAGO':datetime(2021,5,10),'PROVINCIA':'CATAMARCA','TOTAL':18657491},\n",
        "{'FECHA_PAGO':datetime(2021,6,10),'PROVINCIA':'CATAMARCA','TOTAL':18657491},\n",
        "{'FECHA_PAGO':datetime(2021,7,10),'PROVINCIA':'CATAMARCA','TOTAL':18657491},\n",
        "{'FECHA_PAGO':datetime(2021,8,10),'PROVINCIA':'CATAMARCA','TOTAL':18657491},\n",
        "{'FECHA_PAGO':datetime(2021,9,10),'PROVINCIA':'CATAMARCA','TOTAL':18657491},\n",
        "{'FECHA_PAGO':datetime(2021,10,10),'PROVINCIA':'CATAMARCA','TOTAL':18657491},\n",
        "{'FECHA_PAGO':datetime(2021,11,10),'PROVINCIA':'CATAMARCA','TOTAL':18657491},\n",
        "{'FECHA_PAGO':datetime(2021,12,10),'PROVINCIA':'CATAMARCA','TOTAL':18657491},\n",
        "{'FECHA_PAGO':datetime(2021,1,10),'PROVINCIA':'SAN LUIS','TOTAL':25417728},\n",
        "{'FECHA_PAGO':datetime(2021,2,10),'PROVINCIA':'SAN LUIS','TOTAL':25417728},\n",
        "{'FECHA_PAGO':datetime(2021,3,10),'PROVINCIA':'SAN LUIS','TOTAL':25417728},\n",
        "{'FECHA_PAGO':datetime(2021,4,10),'PROVINCIA':'SAN LUIS','TOTAL':25417728},\n",
        "{'FECHA_PAGO':datetime(2021,5,10),'PROVINCIA':'SAN LUIS','TOTAL':25417728},\n",
        "{'FECHA_PAGO':datetime(2021,6,10),'PROVINCIA':'SAN LUIS','TOTAL':25417728},\n",
        "{'FECHA_PAGO':datetime(2021,7,10),'PROVINCIA':'SAN LUIS','TOTAL':25417728},\n",
        "{'FECHA_PAGO':datetime(2021,8,10),'PROVINCIA':'SAN LUIS','TOTAL':25417728},\n",
        "{'FECHA_PAGO':datetime(2021,9,10),'PROVINCIA':'SAN LUIS','TOTAL':25417728},\n",
        "{'FECHA_PAGO':datetime(2021,10,10),'PROVINCIA':'SAN LUIS','TOTAL':25417728},\n",
        "{'FECHA_PAGO':datetime(2021,11,10),'PROVINCIA':'SAN LUIS','TOTAL':25417728},\n",
        "{'FECHA_PAGO':datetime(2021,12,10),'PROVINCIA':'SAN LUIS','TOTAL':25417728},\n",
        "{'FECHA_PAGO':datetime(2021,1,10),'PROVINCIA':'FORMOSA','TOTAL':9992351},\n",
        "{'FECHA_PAGO':datetime(2021,2,10),'PROVINCIA':'FORMOSA','TOTAL':9992351},\n",
        "{'FECHA_PAGO':datetime(2021,3,10),'PROVINCIA':'FORMOSA','TOTAL':9992351},\n",
        "{'FECHA_PAGO':datetime(2021,4,10),'PROVINCIA':'FORMOSA','TOTAL':9992351},\n",
        "{'FECHA_PAGO':datetime(2021,5,10),'PROVINCIA':'FORMOSA','TOTAL':9992351},\n",
        "{'FECHA_PAGO':datetime(2021,6,10),'PROVINCIA':'FORMOSA','TOTAL':9992351},\n",
        "{'FECHA_PAGO':datetime(2021,7,10),'PROVINCIA':'FORMOSA','TOTAL':9992351},\n",
        "{'FECHA_PAGO':datetime(2021,8,10),'PROVINCIA':'FORMOSA','TOTAL':9992351},\n",
        "{'FECHA_PAGO':datetime(2021,9,10),'PROVINCIA':'FORMOSA','TOTAL':9992351},\n",
        "{'FECHA_PAGO':datetime(2021,10,10),'PROVINCIA':'FORMOSA','TOTAL':9992351},\n",
        "{'FECHA_PAGO':datetime(2021,11,10),'PROVINCIA':'FORMOSA','TOTAL':9992351},\n",
        "{'FECHA_PAGO':datetime(2021,12,10),'PROVINCIA':'FORMOSA','TOTAL':9992351},\n",
        "{'FECHA_PAGO':datetime(2021,1,10),'PROVINCIA':'CORRIENTES','TOTAL':37773991},\n",
        "{'FECHA_PAGO':datetime(2021,2,10),'PROVINCIA':'CORRIENTES','TOTAL':37773991},\n",
        "{'FECHA_PAGO':datetime(2021,3,10),'PROVINCIA':'CORRIENTES','TOTAL':37773991},\n",
        "{'FECHA_PAGO':datetime(2021,4,10),'PROVINCIA':'CORRIENTES','TOTAL':37773991},\n",
        "{'FECHA_PAGO':datetime(2021,5,10),'PROVINCIA':'CORRIENTES','TOTAL':37773991},\n",
        "{'FECHA_PAGO':datetime(2021,6,10),'PROVINCIA':'CORRIENTES','TOTAL':37773991},\n",
        "{'FECHA_PAGO':datetime(2021,7,10),'PROVINCIA':'CORRIENTES','TOTAL':37773991},\n",
        "{'FECHA_PAGO':datetime(2021,8,10),'PROVINCIA':'CORRIENTES','TOTAL':37773991},\n",
        "{'FECHA_PAGO':datetime(2021,9,10),'PROVINCIA':'CORRIENTES','TOTAL':37773991},\n",
        "{'FECHA_PAGO':datetime(2021,10,10),'PROVINCIA':'CORRIENTES','TOTAL':37773991},\n",
        "{'FECHA_PAGO':datetime(2021,11,10),'PROVINCIA':'CORRIENTES','TOTAL':37773991},\n",
        "{'FECHA_PAGO':datetime(2021,12,10),'PROVINCIA':'CORRIENTES','TOTAL':37773991},\n",
        "{'FECHA_PAGO':datetime(2021,1,10),'PROVINCIA':'LA PAMPA','TOTAL':5517335},\n",
        "{'FECHA_PAGO':datetime(2021,2,10),'PROVINCIA':'LA PAMPA','TOTAL':5517335},\n",
        "{'FECHA_PAGO':datetime(2021,3,10),'PROVINCIA':'LA PAMPA','TOTAL':5517335},\n",
        "{'FECHA_PAGO':datetime(2021,4,10),'PROVINCIA':'LA PAMPA','TOTAL':5517335},\n",
        "{'FECHA_PAGO':datetime(2021,5,10),'PROVINCIA':'LA PAMPA','TOTAL':5517335},\n",
        "{'FECHA_PAGO':datetime(2021,6,10),'PROVINCIA':'LA PAMPA','TOTAL':5517335},\n",
        "{'FECHA_PAGO':datetime(2021,7,10),'PROVINCIA':'LA PAMPA','TOTAL':5517335},\n",
        "{'FECHA_PAGO':datetime(2021,8,10),'PROVINCIA':'LA PAMPA','TOTAL':5517335},\n",
        "{'FECHA_PAGO':datetime(2021,9,10),'PROVINCIA':'LA PAMPA','TOTAL':5517335},\n",
        "{'FECHA_PAGO':datetime(2021,10,10),'PROVINCIA':'LA PAMPA','TOTAL':5517335},\n",
        "{'FECHA_PAGO':datetime(2021,11,10),'PROVINCIA':'LA PAMPA','TOTAL':5517335},\n",
        "{'FECHA_PAGO':datetime(2021,12,10),'PROVINCIA':'LA PAMPA','TOTAL':5517335},\n",
        "{'FECHA_PAGO':datetime(2021,1,10),'PROVINCIA':'TIERRA DEL FUEGO','TOTAL':2889858},\n",
        "{'FECHA_PAGO':datetime(2021,2,10),'PROVINCIA':'TIERRA DEL FUEGO','TOTAL':2889858},\n",
        "{'FECHA_PAGO':datetime(2021,3,10),'PROVINCIA':'TIERRA DEL FUEGO','TOTAL':2889858},\n",
        "{'FECHA_PAGO':datetime(2021,4,10),'PROVINCIA':'TIERRA DEL FUEGO','TOTAL':2889858},\n",
        "{'FECHA_PAGO':datetime(2021,5,10),'PROVINCIA':'TIERRA DEL FUEGO','TOTAL':2889858},\n",
        "{'FECHA_PAGO':datetime(2021,6,10),'PROVINCIA':'TIERRA DEL FUEGO','TOTAL':2889858},\n",
        "{'FECHA_PAGO':datetime(2021,7,10),'PROVINCIA':'TIERRA DEL FUEGO','TOTAL':2889858},\n",
        "{'FECHA_PAGO':datetime(2021,8,10),'PROVINCIA':'TIERRA DEL FUEGO','TOTAL':2889858},\n",
        "{'FECHA_PAGO':datetime(2021,9,10),'PROVINCIA':'TIERRA DEL FUEGO','TOTAL':2889858},\n",
        "{'FECHA_PAGO':datetime(2021,10,10),'PROVINCIA':'TIERRA DEL FUEGO','TOTAL':2889858},\n",
        "{'FECHA_PAGO':datetime(2021,11,10),'PROVINCIA':'TIERRA DEL FUEGO','TOTAL':2889858},\n",
        "{'FECHA_PAGO':datetime(2021,12,10),'PROVINCIA':'TIERRA DEL FUEGO','TOTAL':2889858},\n",
        "{'FECHA_PAGO':datetime(2021,1,10),'PROVINCIA':'CORDOBA','TOTAL':295212638},\n",
        "{'FECHA_PAGO':datetime(2021,2,10),'PROVINCIA':'CORDOBA','TOTAL':295212638},\n",
        "{'FECHA_PAGO':datetime(2021,3,10),'PROVINCIA':'CORDOBA','TOTAL':295212638},\n",
        "{'FECHA_PAGO':datetime(2021,4,10),'PROVINCIA':'CORDOBA','TOTAL':295212638},\n",
        "{'FECHA_PAGO':datetime(2021,5,10),'PROVINCIA':'CORDOBA','TOTAL':295212638},\n",
        "{'FECHA_PAGO':datetime(2021,6,10),'PROVINCIA':'CORDOBA','TOTAL':295212638},\n",
        "{'FECHA_PAGO':datetime(2021,7,10),'PROVINCIA':'CORDOBA','TOTAL':295212638},\n",
        "{'FECHA_PAGO':datetime(2021,8,10),'PROVINCIA':'CORDOBA','TOTAL':295212638},\n",
        "{'FECHA_PAGO':datetime(2021,9,10),'PROVINCIA':'CORDOBA','TOTAL':295212638},\n",
        "{'FECHA_PAGO':datetime(2021,10,10),'PROVINCIA':'CORDOBA','TOTAL':295212638},\n",
        "{'FECHA_PAGO':datetime(2021,11,10),'PROVINCIA':'CORDOBA','TOTAL':295212638},\n",
        "{'FECHA_PAGO':datetime(2021,12,10),'PROVINCIA':'CORDOBA','TOTAL':295212638},\n",
        "{'FECHA_PAGO':datetime(2021,1,10),'PROVINCIA':'TUCUMÁN','TOTAL':152595198},\n",
        "{'FECHA_PAGO':datetime(2021,2,10),'PROVINCIA':'TUCUMÁN','TOTAL':152595198},\n",
        "{'FECHA_PAGO':datetime(2021,3,10),'PROVINCIA':'TUCUMÁN','TOTAL':152595198},\n",
        "{'FECHA_PAGO':datetime(2021,4,10),'PROVINCIA':'TUCUMÁN','TOTAL':152595198},\n",
        "{'FECHA_PAGO':datetime(2021,5,10),'PROVINCIA':'TUCUMÁN','TOTAL':152595198},\n",
        "{'FECHA_PAGO':datetime(2021,6,10),'PROVINCIA':'TUCUMÁN','TOTAL':152595198},\n",
        "{'FECHA_PAGO':datetime(2021,7,10),'PROVINCIA':'TUCUMÁN','TOTAL':152595198},\n",
        "{'FECHA_PAGO':datetime(2021,8,10),'PROVINCIA':'TUCUMÁN','TOTAL':152595198},\n",
        "{'FECHA_PAGO':datetime(2021,9,10),'PROVINCIA':'TUCUMÁN','TOTAL':152595198},\n",
        "{'FECHA_PAGO':datetime(2021,10,10),'PROVINCIA':'TUCUMÁN','TOTAL':152595198},\n",
        "{'FECHA_PAGO':datetime(2021,11,10),'PROVINCIA':'TUCUMÁN','TOTAL':152595198},\n",
        "{'FECHA_PAGO':datetime(2021,12,10),'PROVINCIA':'TUCUMÁN','TOTAL':152595198},\n",
        "{'FECHA_PAGO':datetime(2021,1,10),'PROVINCIA':'SALTA','TOTAL':98314988},\n",
        "{'FECHA_PAGO':datetime(2021,2,10),'PROVINCIA':'SALTA','TOTAL':98314988},\n",
        "{'FECHA_PAGO':datetime(2021,3,10),'PROVINCIA':'SALTA','TOTAL':98314988},\n",
        "{'FECHA_PAGO':datetime(2021,4,10),'PROVINCIA':'SALTA','TOTAL':98314988},\n",
        "{'FECHA_PAGO':datetime(2021,5,10),'PROVINCIA':'SALTA','TOTAL':98314988},\n",
        "{'FECHA_PAGO':datetime(2021,6,10),'PROVINCIA':'SALTA','TOTAL':98314988},\n",
        "{'FECHA_PAGO':datetime(2021,7,10),'PROVINCIA':'SALTA','TOTAL':98314988},\n",
        "{'FECHA_PAGO':datetime(2021,8,10),'PROVINCIA':'SALTA','TOTAL':98314988},\n",
        "{'FECHA_PAGO':datetime(2021,9,10),'PROVINCIA':'SALTA','TOTAL':98314988},\n",
        "{'FECHA_PAGO':datetime(2021,10,10),'PROVINCIA':'SALTA','TOTAL':98314988},\n",
        "{'FECHA_PAGO':datetime(2021,11,10),'PROVINCIA':'SALTA','TOTAL':98314988},\n",
        "{'FECHA_PAGO':datetime(2021,12,10),'PROVINCIA':'SALTA','TOTAL':98314988},\n",
        "{'FECHA_PAGO':datetime(2021,1,10),'PROVINCIA':'SANTA CRUZ','TOTAL':3243681},\n",
        "{'FECHA_PAGO':datetime(2021,2,10),'PROVINCIA':'SANTA CRUZ','TOTAL':3243681},\n",
        "{'FECHA_PAGO':datetime(2021,3,10),'PROVINCIA':'SANTA CRUZ','TOTAL':3243681},\n",
        "{'FECHA_PAGO':datetime(2021,4,10),'PROVINCIA':'SANTA CRUZ','TOTAL':3243681},\n",
        "{'FECHA_PAGO':datetime(2021,5,10),'PROVINCIA':'SANTA CRUZ','TOTAL':3243681},\n",
        "{'FECHA_PAGO':datetime(2021,6,10),'PROVINCIA':'SANTA CRUZ','TOTAL':3243681},\n",
        "{'FECHA_PAGO':datetime(2021,7,10),'PROVINCIA':'SANTA CRUZ','TOTAL':3243681},\n",
        "{'FECHA_PAGO':datetime(2021,8,10),'PROVINCIA':'SANTA CRUZ','TOTAL':3243681},\n",
        "{'FECHA_PAGO':datetime(2021,9,10),'PROVINCIA':'SANTA CRUZ','TOTAL':3243681},\n",
        "{'FECHA_PAGO':datetime(2021,10,10),'PROVINCIA':'SANTA CRUZ','TOTAL':3243681},\n",
        "{'FECHA_PAGO':datetime(2021,11,10),'PROVINCIA':'SANTA CRUZ','TOTAL':3243681},\n",
        "{'FECHA_PAGO':datetime(2021,12,10),'PROVINCIA':'SANTA CRUZ','TOTAL':3243681},\n",
        "{'FECHA_PAGO':datetime(2021,1,10),'PROVINCIA':'LA RIOJA','TOTAL':11594251},\n",
        "{'FECHA_PAGO':datetime(2021,2,10),'PROVINCIA':'LA RIOJA','TOTAL':11594251},\n",
        "{'FECHA_PAGO':datetime(2021,3,10),'PROVINCIA':'LA RIOJA','TOTAL':11594251},\n",
        "{'FECHA_PAGO':datetime(2021,4,10),'PROVINCIA':'LA RIOJA','TOTAL':11594251},\n",
        "{'FECHA_PAGO':datetime(2021,5,10),'PROVINCIA':'LA RIOJA','TOTAL':11594251},\n",
        "{'FECHA_PAGO':datetime(2021,6,10),'PROVINCIA':'LA RIOJA','TOTAL':11594251},\n",
        "{'FECHA_PAGO':datetime(2021,7,10),'PROVINCIA':'LA RIOJA','TOTAL':11594251},\n",
        "{'FECHA_PAGO':datetime(2021,8,10),'PROVINCIA':'LA RIOJA','TOTAL':11594251},\n",
        "{'FECHA_PAGO':datetime(2021,9,10),'PROVINCIA':'LA RIOJA','TOTAL':11594251},\n",
        "{'FECHA_PAGO':datetime(2021,10,10),'PROVINCIA':'LA RIOJA','TOTAL':11594251},\n",
        "{'FECHA_PAGO':datetime(2021,11,10),'PROVINCIA':'LA RIOJA','TOTAL':11594251},\n",
        "{'FECHA_PAGO':datetime(2021,12,10),'PROVINCIA':'LA RIOJA','TOTAL':11594251},\n",
        "{'FECHA_PAGO':datetime(2021,1,10),'PROVINCIA':'SANTIAGO DEL ESTERO','TOTAL':51541832},\n",
        "{'FECHA_PAGO':datetime(2021,2,10),'PROVINCIA':'SANTIAGO DEL ESTERO','TOTAL':51541832},\n",
        "{'FECHA_PAGO':datetime(2021,3,10),'PROVINCIA':'SANTIAGO DEL ESTERO','TOTAL':51541832},\n",
        "{'FECHA_PAGO':datetime(2021,4,10),'PROVINCIA':'SANTIAGO DEL ESTERO','TOTAL':51541832},\n",
        "{'FECHA_PAGO':datetime(2021,5,10),'PROVINCIA':'SANTIAGO DEL ESTERO','TOTAL':51541832},\n",
        "{'FECHA_PAGO':datetime(2021,6,10),'PROVINCIA':'SANTIAGO DEL ESTERO','TOTAL':51541832},\n",
        "{'FECHA_PAGO':datetime(2021,7,10),'PROVINCIA':'SANTIAGO DEL ESTERO','TOTAL':51541832},\n",
        "{'FECHA_PAGO':datetime(2021,8,10),'PROVINCIA':'SANTIAGO DEL ESTERO','TOTAL':51541832},\n",
        "{'FECHA_PAGO':datetime(2021,9,10),'PROVINCIA':'SANTIAGO DEL ESTERO','TOTAL':51541832},\n",
        "{'FECHA_PAGO':datetime(2021,10,10),'PROVINCIA':'SANTIAGO DEL ESTERO','TOTAL':51541832},\n",
        "{'FECHA_PAGO':datetime(2021,11,10),'PROVINCIA':'SANTIAGO DEL ESTERO','TOTAL':51541832},\n",
        "{'FECHA_PAGO':datetime(2021,12,10),'PROVINCIA':'SANTIAGO DEL ESTERO','TOTAL':51541832},\n",
        "{'FECHA_PAGO':datetime(2021,1,10),'PROVINCIA':'MISIONES','TOTAL':79100451},\n",
        "{'FECHA_PAGO':datetime(2021,2,10),'PROVINCIA':'MISIONES','TOTAL':79100451},\n",
        "{'FECHA_PAGO':datetime(2021,3,10),'PROVINCIA':'MISIONES','TOTAL':79100451},\n",
        "{'FECHA_PAGO':datetime(2021,4,10),'PROVINCIA':'MISIONES','TOTAL':79100451},\n",
        "{'FECHA_PAGO':datetime(2021,5,10),'PROVINCIA':'MISIONES','TOTAL':79100451},\n",
        "{'FECHA_PAGO':datetime(2021,6,10),'PROVINCIA':'MISIONES','TOTAL':79100451},\n",
        "{'FECHA_PAGO':datetime(2021,7,10),'PROVINCIA':'MISIONES','TOTAL':79100451},\n",
        "{'FECHA_PAGO':datetime(2021,8,10),'PROVINCIA':'MISIONES','TOTAL':79100451},\n",
        "{'FECHA_PAGO':datetime(2021,9,10),'PROVINCIA':'MISIONES','TOTAL':79100451},\n",
        "{'FECHA_PAGO':datetime(2021,10,10),'PROVINCIA':'MISIONES','TOTAL':79100451},\n",
        "{'FECHA_PAGO':datetime(2021,11,10),'PROVINCIA':'MISIONES','TOTAL':79100451},\n",
        "{'FECHA_PAGO':datetime(2021,12,10),'PROVINCIA':'MISIONES','TOTAL':79100451}]"
      ],
      "metadata": {
        "id": "KguH2O8l6Qgh"
      },
      "execution_count": null,
      "outputs": []
    },
    {
      "cell_type": "code",
      "source": [
        "df_subsidio_2021= spark.createDataFrame(data_subsidio_elements,\n",
        "                                          data_subsidio_final_struct)"
      ],
      "metadata": {
        "id": "7_oANwP5L04M"
      },
      "execution_count": null,
      "outputs": []
    },
    {
      "cell_type": "code",
      "source": [
        "df_subsidio_2021.show()"
      ],
      "metadata": {
        "colab": {
          "base_uri": "https://localhost:8080/"
        },
        "id": "zO9RAWkJL9SH",
        "outputId": "3561386d-bb44-4ed1-941d-0b42910fb8af"
      },
      "execution_count": null,
      "outputs": [
        {
          "output_type": "stream",
          "name": "stdout",
          "text": [
            "+----------+------------+---------+\n",
            "|FECHA_PAGO|   PROVINCIA|    TOTAL|\n",
            "+----------+------------+---------+\n",
            "|2021-01-10|BUENOS AIRES|113585263|\n",
            "|2021-02-10|BUENOS AIRES|113585263|\n",
            "|2021-03-10|BUENOS AIRES|113585263|\n",
            "|2021-04-10|BUENOS AIRES|113585263|\n",
            "|2021-05-10|BUENOS AIRES|113585263|\n",
            "|2021-06-10|BUENOS AIRES|113585263|\n",
            "|2021-07-10|BUENOS AIRES|113585263|\n",
            "|2021-08-10|BUENOS AIRES|113585263|\n",
            "|2021-09-10|BUENOS AIRES|113585263|\n",
            "|2021-10-10|BUENOS AIRES|113585263|\n",
            "|2021-11-10|BUENOS AIRES|113585263|\n",
            "|2021-12-10|BUENOS AIRES|113585263|\n",
            "|2021-01-10|     MENDOZA|181728248|\n",
            "|2021-02-10|     MENDOZA|181728248|\n",
            "|2021-03-10|     MENDOZA|181728248|\n",
            "|2021-04-10|     MENDOZA|181728248|\n",
            "|2021-05-10|     MENDOZA|181728248|\n",
            "|2021-06-10|     MENDOZA|181728248|\n",
            "|2021-07-10|     MENDOZA|181728248|\n",
            "|2021-08-10|     MENDOZA|181728248|\n",
            "+----------+------------+---------+\n",
            "only showing top 20 rows\n",
            "\n"
          ]
        }
      ]
    },
    {
      "cell_type": "markdown",
      "source": [
        "También vamos a crear el dataframe de la población de cada provincia."
      ],
      "metadata": {
        "id": "w-xwQY1F6W8a"
      }
    },
    {
      "cell_type": "code",
      "source": [
        "data_poblacion_schema = [StructField(\"PROVINCIA_NOMBRE\",StringType(),True),\n",
        "StructField(\"POBLACION_TOTAL\",IntegerType(),True)]\n",
        "\n",
        "data_poblacion_final_struct = StructType(fields=data_poblacion_schema)\n",
        "\n",
        "data_poblacion_elements = [\n",
        "\n",
        "{'PROVINCIA_NOMBRE':'BUENOS AIRES','POBLACION_TOTAL':15625083},\n",
        "{'PROVINCIA_NOMBRE':'MENDOZA','POBLACION_TOTAL':1738929},\n",
        "{'PROVINCIA_NOMBRE':'SAN JUAN','POBLACION_TOTAL':681055},\n",
        "{'PROVINCIA_NOMBRE':'JUJUY','POBLACION_TOTAL':673307},\n",
        "{'PROVINCIA_NOMBRE':'NEUQUÉN','POBLACION_TOTAL':551266},\n",
        "{'PROVINCIA_NOMBRE':'SANTA FE','POBLACION_TOTAL':3194537},\n",
        "{'PROVINCIA_NOMBRE':'ENTRE RÍOS','POBLACION_TOTAL':1235994},\n",
        "{'PROVINCIA_NOMBRE':'RÍO NEGRO','POBLACION_TOTAL':638645},\n",
        "{'PROVINCIA_NOMBRE':'CHUBUT','POBLACION_TOTAL':509108},\n",
        "{'PROVINCIA_NOMBRE':'CHACO','POBLACION_TOTAL':1055259},\n",
        "{'PROVINCIA_NOMBRE':'CATAMARCA','POBLACION_TOTAL':367828},\n",
        "{'PROVINCIA_NOMBRE':'SAN LUIS','POBLACION_TOTAL':432310},\n",
        "{'PROVINCIA_NOMBRE':'FORMOSA','POBLACION_TOTAL':530162},\n",
        "{'PROVINCIA_NOMBRE':'CORRIENTES','POBLACION_TOTAL':992595},\n",
        "{'PROVINCIA_NOMBRE':'LA PAMPA','POBLACION_TOTAL':318951},\n",
        "{'PROVINCIA_NOMBRE':'TIERRA DEL FUEGO','POBLACION_TOTAL':127205},\n",
        "{'PROVINCIA_NOMBRE':'CORDOBA','POBLACION_TOTAL':3308876},\n",
        "{'PROVINCIA_NOMBRE':'TUCUMÁN','POBLACION_TOTAL':1448188},\n",
        "{'PROVINCIA_NOMBRE':'SALTA','POBLACION_TOTAL':1214441},\n",
        "{'PROVINCIA_NOMBRE':'SANTA CRUZ','POBLACION_TOTAL':273964},\n",
        "{'PROVINCIA_NOMBRE':'LA RIOJA','POBLACION_TOTAL':333642},\n",
        "{'PROVINCIA_NOMBRE':'SANTIAGO DEL ESTERO','POBLACION_TOTAL':874006},\n",
        "{'PROVINCIA_NOMBRE':'MISIONES','POBLACION_TOTAL':1101593}                       \n",
        "]"
      ],
      "metadata": {
        "id": "8VaQnmq40om9"
      },
      "execution_count": null,
      "outputs": []
    },
    {
      "cell_type": "code",
      "source": [
        "df_poblacion_2010 = spark.createDataFrame(data_poblacion_elements,\n",
        "                                          data_poblacion_final_struct)"
      ],
      "metadata": {
        "id": "Y4fPTUeJ6jHp"
      },
      "execution_count": null,
      "outputs": []
    },
    {
      "cell_type": "code",
      "source": [
        "df_poblacion_2010.show()"
      ],
      "metadata": {
        "colab": {
          "base_uri": "https://localhost:8080/"
        },
        "id": "3f7fkvDj6mQQ",
        "outputId": "64a85e67-2da9-4be1-ed89-fe2ea20246be"
      },
      "execution_count": null,
      "outputs": [
        {
          "output_type": "stream",
          "name": "stdout",
          "text": [
            "+----------------+---------------+\n",
            "|PROVINCIA_NOMBRE|POBLACION_TOTAL|\n",
            "+----------------+---------------+\n",
            "|    BUENOS AIRES|       15625083|\n",
            "|         MENDOZA|        1738929|\n",
            "|        SAN JUAN|         681055|\n",
            "|           JUJUY|         673307|\n",
            "|         NEUQUÉN|         551266|\n",
            "|        SANTA FE|        3194537|\n",
            "|      ENTRE RÍOS|        1235994|\n",
            "|       RÍO NEGRO|         638645|\n",
            "|          CHUBUT|         509108|\n",
            "|           CHACO|        1055259|\n",
            "|       CATAMARCA|         367828|\n",
            "|        SAN LUIS|         432310|\n",
            "|         FORMOSA|         530162|\n",
            "|      CORRIENTES|         992595|\n",
            "|        LA PAMPA|         318951|\n",
            "|TIERRA DEL FUEGO|         127205|\n",
            "|         CORDOBA|        3308876|\n",
            "|         TUCUMÁN|        1448188|\n",
            "|           SALTA|        1214441|\n",
            "|      SANTA CRUZ|         273964|\n",
            "+----------------+---------------+\n",
            "only showing top 20 rows\n",
            "\n"
          ]
        }
      ]
    },
    {
      "cell_type": "markdown",
      "source": [
        "## **Análisis inicial**\n",
        "\n",
        "Vamos a ver las primeras 20 filas utilizando el método `.show()` en los DataFrames. Pasaremos los parámetros:\n",
        "\n",
        "- El número de filas a mostrar (`20`)\n",
        "\n",
        "*Nota: `.show()` es una acción de Spark, lo que significa que cualquier comando perezoso anterior se ejecutará antes de la acción real. Spark también puede optimizar estos comandos para obtener el mejor rendimiento según sea necesario.* "
      ],
      "metadata": {
        "id": "Q9yhSEg9kPLb"
      }
    },
    {
      "cell_type": "code",
      "source": [
        "df_raw_2020.show(20)"
      ],
      "metadata": {
        "colab": {
          "base_uri": "https://localhost:8080/"
        },
        "id": "KS0js7kLkdPo",
        "outputId": "53c50e1f-d93a-402a-efa6-a1c7e2dce0ed"
      },
      "execution_count": null,
      "outputs": [
        {
          "output_type": "stream",
          "name": "stdout",
          "text": [
            "+-------------------+--------------------+----------------+----+---------------+------------+------------+------------------+--------+---------------+\n",
            "|     DIA_TRANSPORTE|      NOMBRE_EMPRESA|           LINEA|AMBA|TIPO_TRANSPORTE|JURISDICCION|   PROVINCIA|         MUNICIPIO|CANTIDAD|DATO_PRELIMINAR|\n",
            "+-------------------+--------------------+----------------+----+---------------+------------+------------+------------------+--------+---------------+\n",
            "|2020-01-01 00:00:00|  EMPRESA BATAN S.A.|BS_AS_LINEA 715M|  NO|      COLECTIVO|   MUNICIPAL|BUENOS AIRES|GENERAL PUEYRREDON|    2154|             NO|\n",
            "|2020-01-01 00:00:00|COMPAÑIA  DE TRAN...| BS_AS_LINEA_326|  SI|      COLECTIVO|  PROVINCIAL|BUENOS AIRES|                SN|    1492|             NO|\n",
            "|2020-01-01 00:00:00|EMPRESA DE TRANSP...| BS_AS_LINEA_512|  NO|      COLECTIVO|   MUNICIPAL|BUENOS AIRES|GENERAL PUEYRREDON|    1889|             NO|\n",
            "|2020-01-01 00:00:00|AUTOBUSES BUENOS ...| BS_AS_LINEA_514|  SI|      COLECTIVO|   MUNICIPAL|BUENOS AIRES|   ALMIRANTE BROWN|    4669|             NO|\n",
            "|2020-01-01 00:00:00|       EL URBANO SRL| BS_AS_LINEA_522|  SI|      COLECTIVO|   MUNICIPAL|BUENOS AIRES|             LANUS|     187|             NO|\n",
            "|2020-01-01 00:00:00|       EL URBANO SRL| BS_AS_LINEA_527|  SI|      COLECTIVO|   MUNICIPAL|BUENOS AIRES|             LANUS|     543|             NO|\n",
            "|2020-01-01 00:00:00|TRANSPORTES LINEA...|  BS_ASLINEA_123|  SI|      COLECTIVO|    NACIONAL|          JN|                SD|    1927|             NO|\n",
            "|2020-01-01 00:00:00|TRANPORTES VEINTI...|  BSAS_LINEA_002|  SI|      COLECTIVO|    NACIONAL|          JN|                SD|    6408|             NO|\n",
            "|2020-01-01 00:00:00|GENERAL TOMAS GUI...|  BSAS_LINEA_009|  SI|      COLECTIVO|    NACIONAL|          JN|                SD|    5879|             NO|\n",
            "|2020-01-01 00:00:00|       LINEA 10 S.A.|  BSAS_LINEA_010|  SI|      COLECTIVO|    NACIONAL|          JN|                SD|    4531|             NO|\n",
            "|2020-01-01 00:00:00|TRANSPORTES SUR-N...|  BSAS_LINEA_015|  SI|      COLECTIVO|    NACIONAL|          JN|                SD|   12539|             NO|\n",
            "|2020-01-01 00:00:00|       LINEA 17 S.A.|  BSAS_LINEA_017|  SI|      COLECTIVO|    NACIONAL|          JN|                SD|    7050|             NO|\n",
            "|2020-01-01 00:00:00|MICROOMNIBUS SAAV...|  BSAS_LINEA_019|  SI|      COLECTIVO|    NACIONAL|          JN|                SD|    2930|             NO|\n",
            "|2020-01-01 00:00:00|TRANSPORTE LARRAZ...|  BSAS_LINEA_020|  SI|      COLECTIVO|    NACIONAL|          JN|                SD|    3723|             NO|\n",
            "|2020-01-01 00:00:00|EMPRESA DE TRANSP...|  BSAS_LINEA_021|  SI|      COLECTIVO|    NACIONAL|          JN|                SD|   15678|             NO|\n",
            "|2020-01-01 00:00:00|       LINEA 22 S.A.|  BSAS_LINEA_022|  SI|      COLECTIVO|    NACIONAL|          JN|                SD|    4915|             NO|\n",
            "|2020-01-01 00:00:00|EMP.TRANSP.AUTOM....|  BSAS_LINEA_024|  SI|      COLECTIVO|    NACIONAL|          JN|                SD|    9550|             NO|\n",
            "|2020-01-01 00:00:00|   17 DE AGOSTO S.A.|  BSAS_LINEA_026|  SI|      COLECTIVO|    NACIONAL|          JN|                SD|    6233|             NO|\n",
            "|2020-01-01 00:00:00|EMP.DE TRANSP. PE...|  BSAS_LINEA_029|  SI|      COLECTIVO|    NACIONAL|          JN|                SD|    5997|             NO|\n",
            "|2020-01-01 00:00:00|    EL PUENTE S.A.T.|  BSAS_LINEA_032|  SI|      COLECTIVO|    NACIONAL|          JN|                SD|    1480|             NO|\n",
            "+-------------------+--------------------+----------------+----+---------------+------------+------------+------------------+--------+---------------+\n",
            "only showing top 20 rows\n",
            "\n"
          ]
        }
      ]
    },
    {
      "cell_type": "code",
      "source": [
        "df_raw_2021.show(20)"
      ],
      "metadata": {
        "colab": {
          "base_uri": "https://localhost:8080/"
        },
        "id": "ypUaguE1koKg",
        "outputId": "30bb5e65-e6e1-46ab-9e5a-a67c4d48e0ee"
      },
      "execution_count": null,
      "outputs": [
        {
          "output_type": "stream",
          "name": "stdout",
          "text": [
            "+-------------------+--------------------+----------------+----+---------------+------------+------------+------------------+--------+---------------+\n",
            "|     DIA_TRANSPORTE|      NOMBRE_EMPRESA|           LINEA|AMBA|TIPO_TRANSPORTE|JURISDICCION|   PROVINCIA|         MUNICIPIO|CANTIDAD|DATO_PRELIMINAR|\n",
            "+-------------------+--------------------+----------------+----+---------------+------------+------------+------------------+--------+---------------+\n",
            "|2021-01-01 00:00:00|  EMPRESA BATAN S.A.|BS_AS_LINEA 715M|  NO|      COLECTIVO|   MUNICIPAL|BUENOS AIRES|GENERAL PUEYRREDON|    1466|             NO|\n",
            "|2021-01-01 00:00:00|COMPAÑIA  DE TRAN...| BS_AS_LINEA_326|  SI|      COLECTIVO|  PROVINCIAL|BUENOS AIRES|                SN|     625|             NO|\n",
            "|2021-01-01 00:00:00|EMPRESA DE TRANSP...| BS_AS_LINEA_512|  NO|      COLECTIVO|   MUNICIPAL|BUENOS AIRES|GENERAL PUEYRREDON|    1119|             NO|\n",
            "|2021-01-01 00:00:00|AUTOBUSES BUENOS ...| BS_AS_LINEA_514|  SI|      COLECTIVO|   MUNICIPAL|BUENOS AIRES|   ALMIRANTE BROWN|    2813|             NO|\n",
            "|2021-01-01 00:00:00|       EL URBANO SRL| BS_AS_LINEA_522|  SI|      COLECTIVO|   MUNICIPAL|BUENOS AIRES|             LANUS|      99|             NO|\n",
            "|2021-01-01 00:00:00|       EL URBANO SRL| BS_AS_LINEA_527|  SI|      COLECTIVO|   MUNICIPAL|BUENOS AIRES|             LANUS|     362|             NO|\n",
            "|2021-01-01 00:00:00|TRANSPORTES LINEA...|  BS_ASLINEA_123|  SI|      COLECTIVO|    NACIONAL|          JN|                SD|    1070|             NO|\n",
            "|2021-01-01 00:00:00|TRANPORTES VEINTI...|  BSAS_LINEA_002|  SI|      COLECTIVO|    NACIONAL|          JN|                SD|    4958|             NO|\n",
            "|2021-01-01 00:00:00|GENERAL TOMAS GUI...|  BSAS_LINEA_009|  SI|      COLECTIVO|    NACIONAL|          JN|                SD|    3154|             NO|\n",
            "|2021-01-01 00:00:00|       LINEA 10 S.A.|  BSAS_LINEA_010|  SI|      COLECTIVO|    NACIONAL|          JN|                SD|    3347|             NO|\n",
            "|2021-01-01 00:00:00|TRANSPORTES SUR-N...|  BSAS_LINEA_015|  SI|      COLECTIVO|    NACIONAL|          JN|                SD|    7488|             NO|\n",
            "|2021-01-01 00:00:00|       LINEA 17 S.A.|  BSAS_LINEA_017|  SI|      COLECTIVO|    NACIONAL|          JN|                SD|    5001|             NO|\n",
            "|2021-01-01 00:00:00|MICROOMNIBUS SAAV...|  BSAS_LINEA_019|  SI|      COLECTIVO|    NACIONAL|          JN|                SD|    1286|             NO|\n",
            "|2021-01-01 00:00:00|TRANSPORTE LARRAZ...|  BSAS_LINEA_020|  SI|      COLECTIVO|    NACIONAL|          JN|                SD|    1851|             NO|\n",
            "|2021-01-01 00:00:00|EMPRESA DE TRANSP...|  BSAS_LINEA_021|  SI|      COLECTIVO|    NACIONAL|          JN|                SD|    7931|             NO|\n",
            "|2021-01-01 00:00:00|       LINEA 22 S.A.|  BSAS_LINEA_022|  SI|      COLECTIVO|    NACIONAL|          JN|                SD|    1631|             NO|\n",
            "|2021-01-01 00:00:00|EMP.TRANSP.AUTOM....|  BSAS_LINEA_024|  SI|      COLECTIVO|    NACIONAL|          JN|                SD|    5299|             NO|\n",
            "|2021-01-01 00:00:00|   17 DE AGOSTO S.A.|  BSAS_LINEA_026|  SI|      COLECTIVO|    NACIONAL|          JN|                SD|    3773|             NO|\n",
            "|2021-01-01 00:00:00|EMP.DE TRANSP. PE...|  BSAS_LINEA_029|  SI|      COLECTIVO|    NACIONAL|          JN|                SD|    3082|             NO|\n",
            "|2021-01-01 00:00:00|    EL PUENTE S.A.T.|  BSAS_LINEA_032|  SI|      COLECTIVO|    NACIONAL|          JN|                SD|     736|             NO|\n",
            "+-------------------+--------------------+----------------+----+---------------+------------+------------+------------------+--------+---------------+\n",
            "only showing top 20 rows\n",
            "\n"
          ]
        }
      ]
    },
    {
      "cell_type": "markdown",
      "source": [
        "Podemos utilizar el método `.printSchema()` para imprimir el esquema inferido asociado a los datos. Observe que tenemos 10 columnas (lo que se espera en base a nuestra información de formato) y cada campo es anulable. \n",
        "*`.printSchema()` es también una acción de Spark.*"
      ],
      "metadata": {
        "id": "oIb-yEafnl0B"
      }
    },
    {
      "cell_type": "code",
      "source": [
        "df_raw_2020.printSchema()"
      ],
      "metadata": {
        "colab": {
          "base_uri": "https://localhost:8080/"
        },
        "id": "EeZK2d6lp3xm",
        "outputId": "b53c8c3c-ecb0-451e-eb66-97129157f10e"
      },
      "execution_count": null,
      "outputs": [
        {
          "output_type": "stream",
          "name": "stdout",
          "text": [
            "root\n",
            " |-- DIA_TRANSPORTE: timestamp (nullable = true)\n",
            " |-- NOMBRE_EMPRESA: string (nullable = true)\n",
            " |-- LINEA: string (nullable = true)\n",
            " |-- AMBA: string (nullable = true)\n",
            " |-- TIPO_TRANSPORTE: string (nullable = true)\n",
            " |-- JURISDICCION: string (nullable = true)\n",
            " |-- PROVINCIA: string (nullable = true)\n",
            " |-- MUNICIPIO: string (nullable = true)\n",
            " |-- CANTIDAD: integer (nullable = true)\n",
            " |-- DATO_PRELIMINAR: string (nullable = true)\n",
            "\n"
          ]
        }
      ]
    },
    {
      "cell_type": "code",
      "source": [
        "df_raw_2021.printSchema()"
      ],
      "metadata": {
        "colab": {
          "base_uri": "https://localhost:8080/"
        },
        "id": "CoFBptokoQKA",
        "outputId": "a32a37de-55b1-43b7-fd2b-cebe99eec476"
      },
      "execution_count": null,
      "outputs": [
        {
          "output_type": "stream",
          "name": "stdout",
          "text": [
            "root\n",
            " |-- DIA_TRANSPORTE: timestamp (nullable = true)\n",
            " |-- NOMBRE_EMPRESA: string (nullable = true)\n",
            " |-- LINEA: string (nullable = true)\n",
            " |-- AMBA: string (nullable = true)\n",
            " |-- TIPO_TRANSPORTE: string (nullable = true)\n",
            " |-- JURISDICCION: string (nullable = true)\n",
            " |-- PROVINCIA: string (nullable = true)\n",
            " |-- MUNICIPIO: string (nullable = true)\n",
            " |-- CANTIDAD: integer (nullable = true)\n",
            " |-- DATO_PRELIMINAR: string (nullable = true)\n",
            "\n"
          ]
        }
      ]
    },
    {
      "cell_type": "markdown",
      "source": [
        "Vamos a ejecutar un método `.count()` en nuestros dataframes para determinar cuántas filas están presentes en cada conjunto de datos, independientemente de si son correctas."
      ],
      "metadata": {
        "id": "Olp4ZZczrKkI"
      }
    },
    {
      "cell_type": "code",
      "source": [
        "raw_count_2020 = df_raw_2020.count()\n",
        "print(raw_count_2020)"
      ],
      "metadata": {
        "colab": {
          "base_uri": "https://localhost:8080/"
        },
        "id": "H5MxwFeseTKt",
        "outputId": "ccc1c2a3-2fa0-4374-e607-3fce56e5ecb8"
      },
      "execution_count": null,
      "outputs": [
        {
          "output_type": "stream",
          "name": "stdout",
          "text": [
            "356628\n"
          ]
        }
      ]
    },
    {
      "cell_type": "code",
      "source": [
        "raw_count_2021 = df_raw_2021.count()\n",
        "print(raw_count_2021)"
      ],
      "metadata": {
        "colab": {
          "base_uri": "https://localhost:8080/"
        },
        "id": "6drVGB4leKYn",
        "outputId": "0c8758f4-d4fb-4e92-df58-c990e9753ea1"
      },
      "execution_count": null,
      "outputs": [
        {
          "output_type": "stream",
          "name": "stdout",
          "text": [
            "410644\n"
          ]
        }
      ]
    },
    {
      "cell_type": "markdown",
      "source": [
        "Podemos observar que en el dataset crudo del 2020 tenemos 356628 registros, mientras que en el otro contamos con 410644 filas."
      ],
      "metadata": {
        "id": "oZSURouTrbma"
      }
    },
    {
      "cell_type": "markdown",
      "source": [
        "## **Limpieza de datos**"
      ],
      "metadata": {
        "id": "o1iSKqiVz3af"
      }
    },
    {
      "cell_type": "markdown",
      "source": [
        "Utilizaremos algunos métodos del módulo `pyspark.sql.functions` para ayudarnos a determinar los valores nulos o faltantes. \n",
        "\n",
        "Vamos a utilizar el método `.count()` para contar la cantidad de observaciónes nulas en cada columna de nuestros dataframes. Para ello utilizamos las funciónes `.when()` y `.col()`. También utilizaremos la función `.isNull()` para encontrar sólo las entradas que son nulas. Esto se pasa al método `.select()` en el marco de datos para devolver sólo las filas que cumplen este requisito. Finalmente ejecutamos el método `.show()` para poder visualizar el dataframe resultante con el conteo total de los valores nulos por cada columna.\n",
        "\n",
        "Un ejemplo para realizar este conteo en un dataframe de Spark llamado `df_1` sería:\n",
        "\n",
        "```\n",
        "from pyspark.sql.functions import when, count, col\n",
        "df_1.select([count(when(col(c).isNull(), c)).alias(c) for c in df_1.columns]).show()\n",
        "```"
      ],
      "metadata": {
        "id": "3IhdXNTSun0t"
      }
    },
    {
      "cell_type": "code",
      "source": [
        "from pyspark.sql.functions import when, count, col\n",
        "df_raw_2020.select([count(when(col(c).isNull(), c)).alias(c) for c in df_raw_2020.columns]).show()"
      ],
      "metadata": {
        "colab": {
          "base_uri": "https://localhost:8080/"
        },
        "id": "FR8Pem6Z-maR",
        "outputId": "f6c7c025-51a5-4bc2-8730-0287533063ad"
      },
      "execution_count": null,
      "outputs": [
        {
          "output_type": "stream",
          "name": "stdout",
          "text": [
            "+--------------+--------------+-----+----+---------------+------------+---------+---------+--------+---------------+\n",
            "|DIA_TRANSPORTE|NOMBRE_EMPRESA|LINEA|AMBA|TIPO_TRANSPORTE|JURISDICCION|PROVINCIA|MUNICIPIO|CANTIDAD|DATO_PRELIMINAR|\n",
            "+--------------+--------------+-----+----+---------------+------------+---------+---------+--------+---------------+\n",
            "|             0|             0|    0|   0|              0|        2561|     2561|     2561|       0|              0|\n",
            "+--------------+--------------+-----+----+---------------+------------+---------+---------+--------+---------------+\n",
            "\n"
          ]
        }
      ]
    },
    {
      "cell_type": "code",
      "source": [
        "df_raw_2021.select([count(when(col(c).isNull(), c)).alias(c) for c in df_raw_2021.columns]).show()"
      ],
      "metadata": {
        "colab": {
          "base_uri": "https://localhost:8080/"
        },
        "id": "343eb9BAeYzG",
        "outputId": "22bb910c-d24d-4c61-e2cd-f2262a47a6a6"
      },
      "execution_count": null,
      "outputs": [
        {
          "output_type": "stream",
          "name": "stdout",
          "text": [
            "+--------------+--------------+-----+----+---------------+------------+---------+---------+--------+---------------+\n",
            "|DIA_TRANSPORTE|NOMBRE_EMPRESA|LINEA|AMBA|TIPO_TRANSPORTE|JURISDICCION|PROVINCIA|MUNICIPIO|CANTIDAD|DATO_PRELIMINAR|\n",
            "+--------------+--------------+-----+----+---------------+------------+---------+---------+--------+---------------+\n",
            "|             0|             0|    0|   0|              0|        2974|     2974|     2974|       0|              0|\n",
            "+--------------+--------------+-----+----+---------------+------------+---------+---------+--------+---------------+\n",
            "\n"
          ]
        }
      ]
    },
    {
      "cell_type": "markdown",
      "source": [
        "Podemos ver que el dataset crudo del año 2020 cuenta con 2561 valores nulos. Mientras que  el dataset crudo del año 2021 cuenta con 2974 valores nulos. Ambos en las columnas `JURISDICCIÓN`,`PROVINCIA` y `MUNICIPIO`."
      ],
      "metadata": {
        "id": "JiUU_WTg0dXz"
      }
    },
    {
      "cell_type": "markdown",
      "source": [
        "Para eliminar las observaciónes nulas debemos utilizar el método `.dropna()` que devuelve un nuevo DataFrame omitiendo las filas con valores nulos.\n",
        "Finalmente ejecutamos el método `.show()` para poder visualizar el dataframe resultante."
      ],
      "metadata": {
        "id": "NIPX4T9X356x"
      }
    },
    {
      "cell_type": "code",
      "source": [
        "df_clean_2020 = df_raw_2020.dropna()\n",
        "df_clean_2020.show()"
      ],
      "metadata": {
        "colab": {
          "base_uri": "https://localhost:8080/"
        },
        "id": "IIy9UuzFehif",
        "outputId": "dc29e785-7899-4160-c0db-7284bac70763"
      },
      "execution_count": null,
      "outputs": [
        {
          "output_type": "stream",
          "name": "stdout",
          "text": [
            "+-------------------+--------------------+----------------+----+---------------+------------+------------+------------------+--------+---------------+\n",
            "|     DIA_TRANSPORTE|      NOMBRE_EMPRESA|           LINEA|AMBA|TIPO_TRANSPORTE|JURISDICCION|   PROVINCIA|         MUNICIPIO|CANTIDAD|DATO_PRELIMINAR|\n",
            "+-------------------+--------------------+----------------+----+---------------+------------+------------+------------------+--------+---------------+\n",
            "|2020-01-01 00:00:00|  EMPRESA BATAN S.A.|BS_AS_LINEA 715M|  NO|      COLECTIVO|   MUNICIPAL|BUENOS AIRES|GENERAL PUEYRREDON|    2154|             NO|\n",
            "|2020-01-01 00:00:00|COMPAÑIA  DE TRAN...| BS_AS_LINEA_326|  SI|      COLECTIVO|  PROVINCIAL|BUENOS AIRES|                SN|    1492|             NO|\n",
            "|2020-01-01 00:00:00|EMPRESA DE TRANSP...| BS_AS_LINEA_512|  NO|      COLECTIVO|   MUNICIPAL|BUENOS AIRES|GENERAL PUEYRREDON|    1889|             NO|\n",
            "|2020-01-01 00:00:00|AUTOBUSES BUENOS ...| BS_AS_LINEA_514|  SI|      COLECTIVO|   MUNICIPAL|BUENOS AIRES|   ALMIRANTE BROWN|    4669|             NO|\n",
            "|2020-01-01 00:00:00|       EL URBANO SRL| BS_AS_LINEA_522|  SI|      COLECTIVO|   MUNICIPAL|BUENOS AIRES|             LANUS|     187|             NO|\n",
            "|2020-01-01 00:00:00|       EL URBANO SRL| BS_AS_LINEA_527|  SI|      COLECTIVO|   MUNICIPAL|BUENOS AIRES|             LANUS|     543|             NO|\n",
            "|2020-01-01 00:00:00|TRANSPORTES LINEA...|  BS_ASLINEA_123|  SI|      COLECTIVO|    NACIONAL|          JN|                SD|    1927|             NO|\n",
            "|2020-01-01 00:00:00|TRANPORTES VEINTI...|  BSAS_LINEA_002|  SI|      COLECTIVO|    NACIONAL|          JN|                SD|    6408|             NO|\n",
            "|2020-01-01 00:00:00|GENERAL TOMAS GUI...|  BSAS_LINEA_009|  SI|      COLECTIVO|    NACIONAL|          JN|                SD|    5879|             NO|\n",
            "|2020-01-01 00:00:00|       LINEA 10 S.A.|  BSAS_LINEA_010|  SI|      COLECTIVO|    NACIONAL|          JN|                SD|    4531|             NO|\n",
            "|2020-01-01 00:00:00|TRANSPORTES SUR-N...|  BSAS_LINEA_015|  SI|      COLECTIVO|    NACIONAL|          JN|                SD|   12539|             NO|\n",
            "|2020-01-01 00:00:00|       LINEA 17 S.A.|  BSAS_LINEA_017|  SI|      COLECTIVO|    NACIONAL|          JN|                SD|    7050|             NO|\n",
            "|2020-01-01 00:00:00|MICROOMNIBUS SAAV...|  BSAS_LINEA_019|  SI|      COLECTIVO|    NACIONAL|          JN|                SD|    2930|             NO|\n",
            "|2020-01-01 00:00:00|TRANSPORTE LARRAZ...|  BSAS_LINEA_020|  SI|      COLECTIVO|    NACIONAL|          JN|                SD|    3723|             NO|\n",
            "|2020-01-01 00:00:00|EMPRESA DE TRANSP...|  BSAS_LINEA_021|  SI|      COLECTIVO|    NACIONAL|          JN|                SD|   15678|             NO|\n",
            "|2020-01-01 00:00:00|       LINEA 22 S.A.|  BSAS_LINEA_022|  SI|      COLECTIVO|    NACIONAL|          JN|                SD|    4915|             NO|\n",
            "|2020-01-01 00:00:00|EMP.TRANSP.AUTOM....|  BSAS_LINEA_024|  SI|      COLECTIVO|    NACIONAL|          JN|                SD|    9550|             NO|\n",
            "|2020-01-01 00:00:00|   17 DE AGOSTO S.A.|  BSAS_LINEA_026|  SI|      COLECTIVO|    NACIONAL|          JN|                SD|    6233|             NO|\n",
            "|2020-01-01 00:00:00|EMP.DE TRANSP. PE...|  BSAS_LINEA_029|  SI|      COLECTIVO|    NACIONAL|          JN|                SD|    5997|             NO|\n",
            "|2020-01-01 00:00:00|    EL PUENTE S.A.T.|  BSAS_LINEA_032|  SI|      COLECTIVO|    NACIONAL|          JN|                SD|    1480|             NO|\n",
            "+-------------------+--------------------+----------------+----+---------------+------------+------------+------------------+--------+---------------+\n",
            "only showing top 20 rows\n",
            "\n"
          ]
        }
      ]
    },
    {
      "cell_type": "code",
      "source": [
        "df_clean_2021 = df_raw_2021.dropna()\n",
        "df_clean_2021.show()"
      ],
      "metadata": {
        "colab": {
          "base_uri": "https://localhost:8080/"
        },
        "id": "OkO6X98-5AMb",
        "outputId": "9d4d5fc0-11ee-4710-f86d-188740250a5e"
      },
      "execution_count": null,
      "outputs": [
        {
          "output_type": "stream",
          "name": "stdout",
          "text": [
            "+-------------------+--------------------+----------------+----+---------------+------------+------------+------------------+--------+---------------+\n",
            "|     DIA_TRANSPORTE|      NOMBRE_EMPRESA|           LINEA|AMBA|TIPO_TRANSPORTE|JURISDICCION|   PROVINCIA|         MUNICIPIO|CANTIDAD|DATO_PRELIMINAR|\n",
            "+-------------------+--------------------+----------------+----+---------------+------------+------------+------------------+--------+---------------+\n",
            "|2021-01-01 00:00:00|  EMPRESA BATAN S.A.|BS_AS_LINEA 715M|  NO|      COLECTIVO|   MUNICIPAL|BUENOS AIRES|GENERAL PUEYRREDON|    1466|             NO|\n",
            "|2021-01-01 00:00:00|COMPAÑIA  DE TRAN...| BS_AS_LINEA_326|  SI|      COLECTIVO|  PROVINCIAL|BUENOS AIRES|                SN|     625|             NO|\n",
            "|2021-01-01 00:00:00|EMPRESA DE TRANSP...| BS_AS_LINEA_512|  NO|      COLECTIVO|   MUNICIPAL|BUENOS AIRES|GENERAL PUEYRREDON|    1119|             NO|\n",
            "|2021-01-01 00:00:00|AUTOBUSES BUENOS ...| BS_AS_LINEA_514|  SI|      COLECTIVO|   MUNICIPAL|BUENOS AIRES|   ALMIRANTE BROWN|    2813|             NO|\n",
            "|2021-01-01 00:00:00|       EL URBANO SRL| BS_AS_LINEA_522|  SI|      COLECTIVO|   MUNICIPAL|BUENOS AIRES|             LANUS|      99|             NO|\n",
            "|2021-01-01 00:00:00|       EL URBANO SRL| BS_AS_LINEA_527|  SI|      COLECTIVO|   MUNICIPAL|BUENOS AIRES|             LANUS|     362|             NO|\n",
            "|2021-01-01 00:00:00|TRANSPORTES LINEA...|  BS_ASLINEA_123|  SI|      COLECTIVO|    NACIONAL|          JN|                SD|    1070|             NO|\n",
            "|2021-01-01 00:00:00|TRANPORTES VEINTI...|  BSAS_LINEA_002|  SI|      COLECTIVO|    NACIONAL|          JN|                SD|    4958|             NO|\n",
            "|2021-01-01 00:00:00|GENERAL TOMAS GUI...|  BSAS_LINEA_009|  SI|      COLECTIVO|    NACIONAL|          JN|                SD|    3154|             NO|\n",
            "|2021-01-01 00:00:00|       LINEA 10 S.A.|  BSAS_LINEA_010|  SI|      COLECTIVO|    NACIONAL|          JN|                SD|    3347|             NO|\n",
            "|2021-01-01 00:00:00|TRANSPORTES SUR-N...|  BSAS_LINEA_015|  SI|      COLECTIVO|    NACIONAL|          JN|                SD|    7488|             NO|\n",
            "|2021-01-01 00:00:00|       LINEA 17 S.A.|  BSAS_LINEA_017|  SI|      COLECTIVO|    NACIONAL|          JN|                SD|    5001|             NO|\n",
            "|2021-01-01 00:00:00|MICROOMNIBUS SAAV...|  BSAS_LINEA_019|  SI|      COLECTIVO|    NACIONAL|          JN|                SD|    1286|             NO|\n",
            "|2021-01-01 00:00:00|TRANSPORTE LARRAZ...|  BSAS_LINEA_020|  SI|      COLECTIVO|    NACIONAL|          JN|                SD|    1851|             NO|\n",
            "|2021-01-01 00:00:00|EMPRESA DE TRANSP...|  BSAS_LINEA_021|  SI|      COLECTIVO|    NACIONAL|          JN|                SD|    7931|             NO|\n",
            "|2021-01-01 00:00:00|       LINEA 22 S.A.|  BSAS_LINEA_022|  SI|      COLECTIVO|    NACIONAL|          JN|                SD|    1631|             NO|\n",
            "|2021-01-01 00:00:00|EMP.TRANSP.AUTOM....|  BSAS_LINEA_024|  SI|      COLECTIVO|    NACIONAL|          JN|                SD|    5299|             NO|\n",
            "|2021-01-01 00:00:00|   17 DE AGOSTO S.A.|  BSAS_LINEA_026|  SI|      COLECTIVO|    NACIONAL|          JN|                SD|    3773|             NO|\n",
            "|2021-01-01 00:00:00|EMP.DE TRANSP. PE...|  BSAS_LINEA_029|  SI|      COLECTIVO|    NACIONAL|          JN|                SD|    3082|             NO|\n",
            "|2021-01-01 00:00:00|    EL PUENTE S.A.T.|  BSAS_LINEA_032|  SI|      COLECTIVO|    NACIONAL|          JN|                SD|     736|             NO|\n",
            "+-------------------+--------------------+----------------+----+---------------+------------+------------+------------------+--------+---------------+\n",
            "only showing top 20 rows\n",
            "\n"
          ]
        }
      ]
    },
    {
      "cell_type": "markdown",
      "source": [
        "Podemos utilizar la función `.describe()` para calcular las estadísticas básicas de la columna numérica `CANTIDAD`. Luego emplear el método `.show()` para ver el dataframe resultante."
      ],
      "metadata": {
        "id": "uOqxDUBL8JaD"
      }
    },
    {
      "cell_type": "code",
      "source": [
        "df_clean_2020.select(\"CANTIDAD\").describe().show()"
      ],
      "metadata": {
        "colab": {
          "base_uri": "https://localhost:8080/"
        },
        "id": "HXYHTOYbjvCR",
        "outputId": "8766b63f-85c7-4773-ea34-f35d73cad0ca"
      },
      "execution_count": null,
      "outputs": [
        {
          "output_type": "stream",
          "name": "stdout",
          "text": [
            "+-------+------------------+\n",
            "|summary|          CANTIDAD|\n",
            "+-------+------------------+\n",
            "|  count|            354067|\n",
            "|   mean| 4853.705801444359|\n",
            "| stddev|12428.229703937393|\n",
            "|    min|               -43|\n",
            "|    max|            603766|\n",
            "+-------+------------------+\n",
            "\n"
          ]
        }
      ]
    },
    {
      "cell_type": "code",
      "source": [
        "df_clean_2021.select(\"CANTIDAD\").describe().show()"
      ],
      "metadata": {
        "colab": {
          "base_uri": "https://localhost:8080/"
        },
        "id": "bTjxosHV8hOz",
        "outputId": "6dc88775-3531-4115-8e8e-d8a34eccc140"
      },
      "execution_count": null,
      "outputs": [
        {
          "output_type": "stream",
          "name": "stdout",
          "text": [
            "+-------+------------------+\n",
            "|summary|          CANTIDAD|\n",
            "+-------+------------------+\n",
            "|  count|            407670|\n",
            "|   mean| 6655.097257585792|\n",
            "| stddev|14231.603960343082|\n",
            "|    min|               -15|\n",
            "|    max|            477857|\n",
            "+-------+------------------+\n",
            "\n"
          ]
        }
      ]
    },
    {
      "cell_type": "markdown",
      "source": [
        "Podemos observar que ambas tienen como mínimo valores negativos, el dataset del 2020 tiene el valor mínimo de -43 y el dataset del 2021 tiene como mínimo el valor -15. Si bien es cierto que si el usuario no tiene saldo, puede viajar con saldo negativo pero no vamos a considerarlo y podriamos realizar un filtrado teniendo en cuenta los valores mayores a 0 en la columna `CANTIDAD`.\n",
        "Otros filtrados que se va a realizar son:\n",
        "- Solo considerar el medio de transporte COLECTIVO en la columna `TIPO_DE_TRANSPORTE`. Esto para estudiar el uso de la tarjeta SUBE en este medio de transporte.\n",
        "- No considerar la jurisdicción NACIONAL en la columna `JURISDICCION`. Se toma esta decisión porqué no se sabría el nombre exacto de la provincia en cuestión.\n",
        "\n",
        "Luego, utilizamos el método `.show()` para observar el dataframe resultante."
      ],
      "metadata": {
        "id": "Vf05Uh7y83mk"
      }
    },
    {
      "cell_type": "code",
      "source": [
        "df_final_2020 = df_clean_2020.filter((df_clean_2020[\"CANTIDAD\"]>0) \n",
        "& (df_clean_2020[\"TIPO_TRANSPORTE\"]==\"COLECTIVO\")\n",
        "& (df_clean_2020[\"JURISDICCION\"]!=\"NACIONAL\"))\n",
        "df_final_2020.show()"
      ],
      "metadata": {
        "colab": {
          "base_uri": "https://localhost:8080/"
        },
        "id": "Oa76SKovkJ2R",
        "outputId": "de20e3cb-b886-4801-fb81-04452c5e07fb"
      },
      "execution_count": null,
      "outputs": [
        {
          "output_type": "stream",
          "name": "stdout",
          "text": [
            "+-------------------+--------------------+----------------+----+---------------+------------+------------+------------------+--------+---------------+\n",
            "|     DIA_TRANSPORTE|      NOMBRE_EMPRESA|           LINEA|AMBA|TIPO_TRANSPORTE|JURISDICCION|   PROVINCIA|         MUNICIPIO|CANTIDAD|DATO_PRELIMINAR|\n",
            "+-------------------+--------------------+----------------+----+---------------+------------+------------+------------------+--------+---------------+\n",
            "|2020-01-01 00:00:00|  EMPRESA BATAN S.A.|BS_AS_LINEA 715M|  NO|      COLECTIVO|   MUNICIPAL|BUENOS AIRES|GENERAL PUEYRREDON|    2154|             NO|\n",
            "|2020-01-01 00:00:00|COMPAÑIA  DE TRAN...| BS_AS_LINEA_326|  SI|      COLECTIVO|  PROVINCIAL|BUENOS AIRES|                SN|    1492|             NO|\n",
            "|2020-01-01 00:00:00|EMPRESA DE TRANSP...| BS_AS_LINEA_512|  NO|      COLECTIVO|   MUNICIPAL|BUENOS AIRES|GENERAL PUEYRREDON|    1889|             NO|\n",
            "|2020-01-01 00:00:00|AUTOBUSES BUENOS ...| BS_AS_LINEA_514|  SI|      COLECTIVO|   MUNICIPAL|BUENOS AIRES|   ALMIRANTE BROWN|    4669|             NO|\n",
            "|2020-01-01 00:00:00|       EL URBANO SRL| BS_AS_LINEA_522|  SI|      COLECTIVO|   MUNICIPAL|BUENOS AIRES|             LANUS|     187|             NO|\n",
            "|2020-01-01 00:00:00|       EL URBANO SRL| BS_AS_LINEA_527|  SI|      COLECTIVO|   MUNICIPAL|BUENOS AIRES|             LANUS|     543|             NO|\n",
            "|2020-01-01 00:00:00|EMPRESA DE TRANSP...|  BSAS_LINEA_200|  SI|      COLECTIVO|  PROVINCIAL|BUENOS AIRES|                SN|     598|             NO|\n",
            "|2020-01-01 00:00:00|TRANSPORTE LA UNI...|  BSAS_LINEA_202|  SI|      COLECTIVO|  PROVINCIAL|BUENOS AIRES|                SN|    5090|             NO|\n",
            "|2020-01-01 00:00:00|AZUL S.A. DE TRAN...|  BSAS_LINEA_203|  SI|      COLECTIVO|  PROVINCIAL|BUENOS AIRES|                SN|   34296|             NO|\n",
            "|2020-01-01 00:00:00|MICRO OMNIBUS TIG...|  BSAS_LINEA_204|  SI|      COLECTIVO|  PROVINCIAL|BUENOS AIRES|                SN|    1981|             NO|\n",
            "|2020-01-01 00:00:00|    LINEA SESENTA SA| BSAS_LINEA_204B|  SI|      COLECTIVO|  PROVINCIAL|BUENOS AIRES|                SN|     126|             NO|\n",
            "|2020-01-01 00:00:00|TRANSPORTE IDEAL ...|  BSAS_LINEA_205|  SI|      COLECTIVO|  PROVINCIAL|BUENOS AIRES|                SN|     571|             NO|\n",
            "|2020-01-01 00:00:00|  UNION PLATENSE SRL|  BSAS_LINEA_214|  SI|      COLECTIVO|  PROVINCIAL|BUENOS AIRES|                SN|    1774|             NO|\n",
            "|2020-01-01 00:00:00|EMPRESA NUEVE DE ...|  BSAS_LINEA_215|  SI|      COLECTIVO|  PROVINCIAL|BUENOS AIRES|                SN|    1188|             NO|\n",
            "|2020-01-01 00:00:00|ALMAFUERTE EMPRES...|  BSAS_LINEA_218|  SI|      COLECTIVO|  PROVINCIAL|BUENOS AIRES|                SN|    4328|             NO|\n",
            "|2020-01-01 00:00:00|MICRO OMNIBUS QUI...|  BSAS_LINEA_219|  SI|      COLECTIVO|  PROVINCIAL|BUENOS AIRES|                SN|    3351|             NO|\n",
            "|2020-01-01 00:00:00|EXPRESO ESTEBAN E...|  BSAS_LINEA_222|  SI|      COLECTIVO|  PROVINCIAL|BUENOS AIRES|                SN|    1574|             NO|\n",
            "|2020-01-01 00:00:00|EMPRESA NUEVE DE ...|  BSAS_LINEA_225|  SI|      COLECTIVO|  PROVINCIAL|BUENOS AIRES|                SN|     263|             NO|\n",
            "|2020-01-01 00:00:00|MICRO OMNIBUS TIG...| BSAS_LINEA_228C|  SI|      COLECTIVO|  PROVINCIAL|BUENOS AIRES|                SN|     975|             NO|\n",
            "|2020-01-01 00:00:00|MICRO OMNIBUS TIG...| BSAS_LINEA_228E|  SI|      COLECTIVO|  PROVINCIAL|BUENOS AIRES|                SN|     597|             NO|\n",
            "+-------------------+--------------------+----------------+----+---------------+------------+------------+------------------+--------+---------------+\n",
            "only showing top 20 rows\n",
            "\n"
          ]
        }
      ]
    },
    {
      "cell_type": "code",
      "source": [
        "df_final_2021 = df_clean_2021.filter((df_clean_2021[\"CANTIDAD\"]>0) \n",
        "& (df_clean_2021[\"TIPO_TRANSPORTE\"]==\"COLECTIVO\")\n",
        "& (df_clean_2021[\"JURISDICCION\"]!=\"NACIONAL\"))\n",
        "df_final_2021.show()"
      ],
      "metadata": {
        "colab": {
          "base_uri": "https://localhost:8080/"
        },
        "id": "x5VsGubzB6s1",
        "outputId": "a6fde7d3-e919-4ae2-89a9-5852528a91bd"
      },
      "execution_count": null,
      "outputs": [
        {
          "output_type": "stream",
          "name": "stdout",
          "text": [
            "+-------------------+--------------------+----------------+----+---------------+------------+------------+------------------+--------+---------------+\n",
            "|     DIA_TRANSPORTE|      NOMBRE_EMPRESA|           LINEA|AMBA|TIPO_TRANSPORTE|JURISDICCION|   PROVINCIA|         MUNICIPIO|CANTIDAD|DATO_PRELIMINAR|\n",
            "+-------------------+--------------------+----------------+----+---------------+------------+------------+------------------+--------+---------------+\n",
            "|2021-01-01 00:00:00|  EMPRESA BATAN S.A.|BS_AS_LINEA 715M|  NO|      COLECTIVO|   MUNICIPAL|BUENOS AIRES|GENERAL PUEYRREDON|    1466|             NO|\n",
            "|2021-01-01 00:00:00|COMPAÑIA  DE TRAN...| BS_AS_LINEA_326|  SI|      COLECTIVO|  PROVINCIAL|BUENOS AIRES|                SN|     625|             NO|\n",
            "|2021-01-01 00:00:00|EMPRESA DE TRANSP...| BS_AS_LINEA_512|  NO|      COLECTIVO|   MUNICIPAL|BUENOS AIRES|GENERAL PUEYRREDON|    1119|             NO|\n",
            "|2021-01-01 00:00:00|AUTOBUSES BUENOS ...| BS_AS_LINEA_514|  SI|      COLECTIVO|   MUNICIPAL|BUENOS AIRES|   ALMIRANTE BROWN|    2813|             NO|\n",
            "|2021-01-01 00:00:00|       EL URBANO SRL| BS_AS_LINEA_522|  SI|      COLECTIVO|   MUNICIPAL|BUENOS AIRES|             LANUS|      99|             NO|\n",
            "|2021-01-01 00:00:00|       EL URBANO SRL| BS_AS_LINEA_527|  SI|      COLECTIVO|   MUNICIPAL|BUENOS AIRES|             LANUS|     362|             NO|\n",
            "|2021-01-01 00:00:00|EMPRESA DE TRANSP...|  BSAS_LINEA_200|  SI|      COLECTIVO|  PROVINCIAL|BUENOS AIRES|                SN|     175|             NO|\n",
            "|2021-01-01 00:00:00|TRANSPORTE LA UNI...|  BSAS_LINEA_202|  SI|      COLECTIVO|  PROVINCIAL|BUENOS AIRES|                SN|    2748|             NO|\n",
            "|2021-01-01 00:00:00|AZUL S.A. DE TRAN...|  BSAS_LINEA_203|  SI|      COLECTIVO|  PROVINCIAL|BUENOS AIRES|                SN|   20189|             NO|\n",
            "|2021-01-01 00:00:00|MICRO OMNIBUS TIG...|  BSAS_LINEA_204|  SI|      COLECTIVO|  PROVINCIAL|BUENOS AIRES|                SN|    1441|             NO|\n",
            "|2021-01-01 00:00:00|    LINEA SESENTA SA| BSAS_LINEA_204B|  SI|      COLECTIVO|  PROVINCIAL|BUENOS AIRES|                SN|      91|             NO|\n",
            "|2021-01-01 00:00:00|TRANSPORTE IDEAL ...|  BSAS_LINEA_205|  SI|      COLECTIVO|  PROVINCIAL|BUENOS AIRES|                SN|     297|             NO|\n",
            "|2021-01-01 00:00:00|  UNION PLATENSE SRL|  BSAS_LINEA_214|  SI|      COLECTIVO|  PROVINCIAL|BUENOS AIRES|                SN|    1137|             NO|\n",
            "|2021-01-01 00:00:00|EMPRESA NUEVE DE ...|  BSAS_LINEA_215|  SI|      COLECTIVO|  PROVINCIAL|BUENOS AIRES|                SN|     748|             NO|\n",
            "|2021-01-01 00:00:00|ALMAFUERTE EMPRES...|  BSAS_LINEA_218|  SI|      COLECTIVO|  PROVINCIAL|BUENOS AIRES|                SN|    2292|             NO|\n",
            "|2021-01-01 00:00:00|MICRO OMNIBUS QUI...|  BSAS_LINEA_219|  SI|      COLECTIVO|  PROVINCIAL|BUENOS AIRES|                SN|    1909|             NO|\n",
            "|2021-01-01 00:00:00|EXPRESO ESTEBAN E...|  BSAS_LINEA_222|  SI|      COLECTIVO|  PROVINCIAL|BUENOS AIRES|                SN|    1272|             NO|\n",
            "|2021-01-01 00:00:00|EMPRESA NUEVE DE ...|  BSAS_LINEA_225|  SI|      COLECTIVO|  PROVINCIAL|BUENOS AIRES|                SN|     157|             NO|\n",
            "|2021-01-01 00:00:00|LA NUEVA METROPOL...| BSAS_LINEA_228A|  SI|      COLECTIVO|  PROVINCIAL|BUENOS AIRES|                SN|      63|             NO|\n",
            "|2021-01-01 00:00:00|MICRO OMNIBUS TIG...| BSAS_LINEA_228C|  SI|      COLECTIVO|  PROVINCIAL|BUENOS AIRES|                SN|     466|             NO|\n",
            "+-------------------+--------------------+----------------+----+---------------+------------+------------+------------------+--------+---------------+\n",
            "only showing top 20 rows\n",
            "\n"
          ]
        }
      ]
    },
    {
      "cell_type": "markdown",
      "source": [
        "Empleamos el método `.count()` para conocer las observaciónes que quedaron en los dataframes luego de la limpieza y el filtrado."
      ],
      "metadata": {
        "id": "mq1sxqYRBl6e"
      }
    },
    {
      "cell_type": "code",
      "source": [
        "final_count_2020 = df_final_2020.count()\n",
        "print(final_count_2020)"
      ],
      "metadata": {
        "colab": {
          "base_uri": "https://localhost:8080/"
        },
        "id": "mXeMollTAv0A",
        "outputId": "3c157df0-ed0c-4563-9e9e-82c2a896aecf"
      },
      "execution_count": null,
      "outputs": [
        {
          "output_type": "stream",
          "name": "stdout",
          "text": [
            "295403\n"
          ]
        }
      ]
    },
    {
      "cell_type": "code",
      "source": [
        "final_count_2021 = df_final_2021.count()\n",
        "print(final_count_2021)"
      ],
      "metadata": {
        "colab": {
          "base_uri": "https://localhost:8080/"
        },
        "id": "DU_1Gc0vCEYA",
        "outputId": "dc443c67-cebf-4d9f-bfa3-1006f68bed66"
      },
      "execution_count": null,
      "outputs": [
        {
          "output_type": "stream",
          "name": "stdout",
          "text": [
            "346943\n"
          ]
        }
      ]
    },
    {
      "cell_type": "code",
      "source": [
        "lost_data_2020 = ((raw_count_2020-final_count_2020)/(raw_count_2020)) * 100\n",
        "print(lost_data_2020)"
      ],
      "metadata": {
        "colab": {
          "base_uri": "https://localhost:8080/"
        },
        "id": "AKei-t5G1meH",
        "outputId": "ef3882a2-df97-4c9c-d056-c163fc383afe"
      },
      "execution_count": null,
      "outputs": [
        {
          "output_type": "stream",
          "name": "stdout",
          "text": [
            "17.16774902699732\n"
          ]
        }
      ]
    },
    {
      "cell_type": "code",
      "source": [
        "lost_data_2021 = ((raw_count_2021-final_count_2021)/(raw_count_2021)) * 100\n",
        "print(lost_data_2021)"
      ],
      "metadata": {
        "colab": {
          "base_uri": "https://localhost:8080/"
        },
        "id": "SUzfWPC1C8i1",
        "outputId": "99c165f3-d9ed-4d9e-fb62-62564c5b421c"
      },
      "execution_count": null,
      "outputs": [
        {
          "output_type": "stream",
          "name": "stdout",
          "text": [
            "15.512463350249853\n"
          ]
        }
      ]
    },
    {
      "cell_type": "markdown",
      "source": [
        "Podemos ver que en el dataframe del 2020 se perdieron el 17.16% de los valores y en el del 2021 perdimos el 15.51%. Por lo que no se llegó a descartar más del 70% de los datos."
      ],
      "metadata": {
        "id": "pEeevThgDIG7"
      }
    },
    {
      "cell_type": "markdown",
      "source": [
        "Nuestro siguiente paso para limpiar este conjunto de datos en Pyspark consiste en determinar cuántas columnas deberíamos tener en nuestro conjunto de datos y ocuparnos de los valores atípicos. Sabemos por ejemplo que la columna `DIA_TRANSPORTE` fue inferida por Spark de tipo `Timestamp` cuando debería haber sido `DateType`.\n",
        "\n",
        "Vamos a proceder a separar la fecha de la hora y luego añadirla en otra columna. Para ello vamos a utilizar:\n",
        "\n",
        "- `F.split()`: Esto actúa de forma similar al método `split()` de Python, dividiendo el contenido de una columna del dataframe en un carácter especificado en una columna ArrayType de Spark (es decir, la versión de Spark de una variable de lista). \n",
        "- `.withColumn()`: Crea un nuevo marco de datos con una columna dada."
      ],
      "metadata": {
        "id": "PESe3coZYhGr"
      }
    },
    {
      "cell_type": "code",
      "source": [
        "from pyspark.sql import functions as F\n",
        "date_split = F.split(df_final_2020[\"DIA_TRANSPORTE\"],' ')\n",
        "\n",
        "df_2020 = df_final_2020.withColumn(\"FECHA_TRANSPORTE\",date_split.getItem(0))\n",
        "\n",
        "df_2020 = df_2020.drop(\"DIA_TRANSPORTE\")"
      ],
      "metadata": {
        "id": "ghZXVjJSXNvS"
      },
      "execution_count": null,
      "outputs": []
    },
    {
      "cell_type": "code",
      "source": [
        "df_2020.show()"
      ],
      "metadata": {
        "colab": {
          "base_uri": "https://localhost:8080/"
        },
        "id": "yU3OAcSQaIxj",
        "outputId": "f59849db-a8e9-4847-d9db-44d2f7c5c85e"
      },
      "execution_count": null,
      "outputs": [
        {
          "output_type": "stream",
          "name": "stdout",
          "text": [
            "+--------------------+----------------+----+---------------+------------+------------+------------------+--------+---------------+----------------+\n",
            "|      NOMBRE_EMPRESA|           LINEA|AMBA|TIPO_TRANSPORTE|JURISDICCION|   PROVINCIA|         MUNICIPIO|CANTIDAD|DATO_PRELIMINAR|FECHA_TRANSPORTE|\n",
            "+--------------------+----------------+----+---------------+------------+------------+------------------+--------+---------------+----------------+\n",
            "|  EMPRESA BATAN S.A.|BS_AS_LINEA 715M|  NO|      COLECTIVO|   MUNICIPAL|BUENOS AIRES|GENERAL PUEYRREDON|    2154|             NO|      2020-01-01|\n",
            "|COMPAÑIA  DE TRAN...| BS_AS_LINEA_326|  SI|      COLECTIVO|  PROVINCIAL|BUENOS AIRES|                SN|    1492|             NO|      2020-01-01|\n",
            "|EMPRESA DE TRANSP...| BS_AS_LINEA_512|  NO|      COLECTIVO|   MUNICIPAL|BUENOS AIRES|GENERAL PUEYRREDON|    1889|             NO|      2020-01-01|\n",
            "|AUTOBUSES BUENOS ...| BS_AS_LINEA_514|  SI|      COLECTIVO|   MUNICIPAL|BUENOS AIRES|   ALMIRANTE BROWN|    4669|             NO|      2020-01-01|\n",
            "|       EL URBANO SRL| BS_AS_LINEA_522|  SI|      COLECTIVO|   MUNICIPAL|BUENOS AIRES|             LANUS|     187|             NO|      2020-01-01|\n",
            "|       EL URBANO SRL| BS_AS_LINEA_527|  SI|      COLECTIVO|   MUNICIPAL|BUENOS AIRES|             LANUS|     543|             NO|      2020-01-01|\n",
            "|EMPRESA DE TRANSP...|  BSAS_LINEA_200|  SI|      COLECTIVO|  PROVINCIAL|BUENOS AIRES|                SN|     598|             NO|      2020-01-01|\n",
            "|TRANSPORTE LA UNI...|  BSAS_LINEA_202|  SI|      COLECTIVO|  PROVINCIAL|BUENOS AIRES|                SN|    5090|             NO|      2020-01-01|\n",
            "|AZUL S.A. DE TRAN...|  BSAS_LINEA_203|  SI|      COLECTIVO|  PROVINCIAL|BUENOS AIRES|                SN|   34296|             NO|      2020-01-01|\n",
            "|MICRO OMNIBUS TIG...|  BSAS_LINEA_204|  SI|      COLECTIVO|  PROVINCIAL|BUENOS AIRES|                SN|    1981|             NO|      2020-01-01|\n",
            "|    LINEA SESENTA SA| BSAS_LINEA_204B|  SI|      COLECTIVO|  PROVINCIAL|BUENOS AIRES|                SN|     126|             NO|      2020-01-01|\n",
            "|TRANSPORTE IDEAL ...|  BSAS_LINEA_205|  SI|      COLECTIVO|  PROVINCIAL|BUENOS AIRES|                SN|     571|             NO|      2020-01-01|\n",
            "|  UNION PLATENSE SRL|  BSAS_LINEA_214|  SI|      COLECTIVO|  PROVINCIAL|BUENOS AIRES|                SN|    1774|             NO|      2020-01-01|\n",
            "|EMPRESA NUEVE DE ...|  BSAS_LINEA_215|  SI|      COLECTIVO|  PROVINCIAL|BUENOS AIRES|                SN|    1188|             NO|      2020-01-01|\n",
            "|ALMAFUERTE EMPRES...|  BSAS_LINEA_218|  SI|      COLECTIVO|  PROVINCIAL|BUENOS AIRES|                SN|    4328|             NO|      2020-01-01|\n",
            "|MICRO OMNIBUS QUI...|  BSAS_LINEA_219|  SI|      COLECTIVO|  PROVINCIAL|BUENOS AIRES|                SN|    3351|             NO|      2020-01-01|\n",
            "|EXPRESO ESTEBAN E...|  BSAS_LINEA_222|  SI|      COLECTIVO|  PROVINCIAL|BUENOS AIRES|                SN|    1574|             NO|      2020-01-01|\n",
            "|EMPRESA NUEVE DE ...|  BSAS_LINEA_225|  SI|      COLECTIVO|  PROVINCIAL|BUENOS AIRES|                SN|     263|             NO|      2020-01-01|\n",
            "|MICRO OMNIBUS TIG...| BSAS_LINEA_228C|  SI|      COLECTIVO|  PROVINCIAL|BUENOS AIRES|                SN|     975|             NO|      2020-01-01|\n",
            "|MICRO OMNIBUS TIG...| BSAS_LINEA_228E|  SI|      COLECTIVO|  PROVINCIAL|BUENOS AIRES|                SN|     597|             NO|      2020-01-01|\n",
            "+--------------------+----------------+----+---------------+------------+------------+------------------+--------+---------------+----------------+\n",
            "only showing top 20 rows\n",
            "\n"
          ]
        }
      ]
    },
    {
      "cell_type": "code",
      "source": [
        "date_split = F.split(df_final_2021[\"DIA_TRANSPORTE\"],' ')\n",
        "\n",
        "df_2021 = df_final_2021.withColumn(\"FECHA_TRANSPORTE\",date_split.getItem(0))\n",
        "\n",
        "df_2021 = df_2021.drop(\"DIA_TRANSPORTE\")"
      ],
      "metadata": {
        "id": "eoE5LzCZaM1q"
      },
      "execution_count": null,
      "outputs": []
    },
    {
      "cell_type": "code",
      "source": [
        "df_2021.show()"
      ],
      "metadata": {
        "colab": {
          "base_uri": "https://localhost:8080/"
        },
        "id": "mtX6bnsfaUrU",
        "outputId": "e2770efe-3ea1-4833-f4af-1905f895ade4"
      },
      "execution_count": null,
      "outputs": [
        {
          "output_type": "stream",
          "name": "stdout",
          "text": [
            "+--------------------+----------------+----+---------------+------------+------------+------------------+--------+---------------+----------------+\n",
            "|      NOMBRE_EMPRESA|           LINEA|AMBA|TIPO_TRANSPORTE|JURISDICCION|   PROVINCIA|         MUNICIPIO|CANTIDAD|DATO_PRELIMINAR|FECHA_TRANSPORTE|\n",
            "+--------------------+----------------+----+---------------+------------+------------+------------------+--------+---------------+----------------+\n",
            "|  EMPRESA BATAN S.A.|BS_AS_LINEA 715M|  NO|      COLECTIVO|   MUNICIPAL|BUENOS AIRES|GENERAL PUEYRREDON|    1466|             NO|      2021-01-01|\n",
            "|COMPAÑIA  DE TRAN...| BS_AS_LINEA_326|  SI|      COLECTIVO|  PROVINCIAL|BUENOS AIRES|                SN|     625|             NO|      2021-01-01|\n",
            "|EMPRESA DE TRANSP...| BS_AS_LINEA_512|  NO|      COLECTIVO|   MUNICIPAL|BUENOS AIRES|GENERAL PUEYRREDON|    1119|             NO|      2021-01-01|\n",
            "|AUTOBUSES BUENOS ...| BS_AS_LINEA_514|  SI|      COLECTIVO|   MUNICIPAL|BUENOS AIRES|   ALMIRANTE BROWN|    2813|             NO|      2021-01-01|\n",
            "|       EL URBANO SRL| BS_AS_LINEA_522|  SI|      COLECTIVO|   MUNICIPAL|BUENOS AIRES|             LANUS|      99|             NO|      2021-01-01|\n",
            "|       EL URBANO SRL| BS_AS_LINEA_527|  SI|      COLECTIVO|   MUNICIPAL|BUENOS AIRES|             LANUS|     362|             NO|      2021-01-01|\n",
            "|EMPRESA DE TRANSP...|  BSAS_LINEA_200|  SI|      COLECTIVO|  PROVINCIAL|BUENOS AIRES|                SN|     175|             NO|      2021-01-01|\n",
            "|TRANSPORTE LA UNI...|  BSAS_LINEA_202|  SI|      COLECTIVO|  PROVINCIAL|BUENOS AIRES|                SN|    2748|             NO|      2021-01-01|\n",
            "|AZUL S.A. DE TRAN...|  BSAS_LINEA_203|  SI|      COLECTIVO|  PROVINCIAL|BUENOS AIRES|                SN|   20189|             NO|      2021-01-01|\n",
            "|MICRO OMNIBUS TIG...|  BSAS_LINEA_204|  SI|      COLECTIVO|  PROVINCIAL|BUENOS AIRES|                SN|    1441|             NO|      2021-01-01|\n",
            "|    LINEA SESENTA SA| BSAS_LINEA_204B|  SI|      COLECTIVO|  PROVINCIAL|BUENOS AIRES|                SN|      91|             NO|      2021-01-01|\n",
            "|TRANSPORTE IDEAL ...|  BSAS_LINEA_205|  SI|      COLECTIVO|  PROVINCIAL|BUENOS AIRES|                SN|     297|             NO|      2021-01-01|\n",
            "|  UNION PLATENSE SRL|  BSAS_LINEA_214|  SI|      COLECTIVO|  PROVINCIAL|BUENOS AIRES|                SN|    1137|             NO|      2021-01-01|\n",
            "|EMPRESA NUEVE DE ...|  BSAS_LINEA_215|  SI|      COLECTIVO|  PROVINCIAL|BUENOS AIRES|                SN|     748|             NO|      2021-01-01|\n",
            "|ALMAFUERTE EMPRES...|  BSAS_LINEA_218|  SI|      COLECTIVO|  PROVINCIAL|BUENOS AIRES|                SN|    2292|             NO|      2021-01-01|\n",
            "|MICRO OMNIBUS QUI...|  BSAS_LINEA_219|  SI|      COLECTIVO|  PROVINCIAL|BUENOS AIRES|                SN|    1909|             NO|      2021-01-01|\n",
            "|EXPRESO ESTEBAN E...|  BSAS_LINEA_222|  SI|      COLECTIVO|  PROVINCIAL|BUENOS AIRES|                SN|    1272|             NO|      2021-01-01|\n",
            "|EMPRESA NUEVE DE ...|  BSAS_LINEA_225|  SI|      COLECTIVO|  PROVINCIAL|BUENOS AIRES|                SN|     157|             NO|      2021-01-01|\n",
            "|LA NUEVA METROPOL...| BSAS_LINEA_228A|  SI|      COLECTIVO|  PROVINCIAL|BUENOS AIRES|                SN|      63|             NO|      2021-01-01|\n",
            "|MICRO OMNIBUS TIG...| BSAS_LINEA_228C|  SI|      COLECTIVO|  PROVINCIAL|BUENOS AIRES|                SN|     466|             NO|      2021-01-01|\n",
            "+--------------------+----------------+----+---------------+------------+------------+------------------+--------+---------------+----------------+\n",
            "only showing top 20 rows\n",
            "\n"
          ]
        }
      ]
    },
    {
      "cell_type": "markdown",
      "source": [
        "Lo siguiente que vamos a hacer es trabajar con las columnas de fechas en los datasets que contengan fecha en formato `yyyy-mm-dd`. Vamos a crear 3 columnas nuevas, una para el año, otra para el mes y otra para el día."
      ],
      "metadata": {
        "id": "cYS5N3HXqW9z"
      }
    },
    {
      "cell_type": "code",
      "source": [
        "date_split_2020 = F.split(df_2020[\"FECHA_TRANSPORTE\"],'-')\n",
        "\n",
        "final_df_2020 = df_2020.withColumn(\"Dia\",date_split_2020.getItem(2))\n",
        "final_df_2020 = final_df_2020.withColumn(\"Mes\",date_split_2020.getItem(1))\n",
        "final_df_2020 = final_df_2020.withColumn(\"Año\",date_split_2020.getItem(0))\n",
        "\n",
        "final_df_2020 = final_df_2020.drop(\"FECHA_TRANSPORTE\")"
      ],
      "metadata": {
        "id": "fzJgos7sq-ql"
      },
      "execution_count": null,
      "outputs": []
    },
    {
      "cell_type": "code",
      "source": [
        "final_df_2020.show()"
      ],
      "metadata": {
        "colab": {
          "base_uri": "https://localhost:8080/"
        },
        "id": "d4Je4KZrsckF",
        "outputId": "1f09b8c6-f5e3-4ff3-aef3-90508d704f61"
      },
      "execution_count": null,
      "outputs": [
        {
          "output_type": "stream",
          "name": "stdout",
          "text": [
            "+--------------------+----------------+----+---------------+------------+------------+------------------+--------+---------------+---+---+----+\n",
            "|      NOMBRE_EMPRESA|           LINEA|AMBA|TIPO_TRANSPORTE|JURISDICCION|   PROVINCIA|         MUNICIPIO|CANTIDAD|DATO_PRELIMINAR|Dia|Mes| Año|\n",
            "+--------------------+----------------+----+---------------+------------+------------+------------------+--------+---------------+---+---+----+\n",
            "|  EMPRESA BATAN S.A.|BS_AS_LINEA 715M|  NO|      COLECTIVO|   MUNICIPAL|BUENOS AIRES|GENERAL PUEYRREDON|    2154|             NO| 01| 01|2020|\n",
            "|COMPAÑIA  DE TRAN...| BS_AS_LINEA_326|  SI|      COLECTIVO|  PROVINCIAL|BUENOS AIRES|                SN|    1492|             NO| 01| 01|2020|\n",
            "|EMPRESA DE TRANSP...| BS_AS_LINEA_512|  NO|      COLECTIVO|   MUNICIPAL|BUENOS AIRES|GENERAL PUEYRREDON|    1889|             NO| 01| 01|2020|\n",
            "|AUTOBUSES BUENOS ...| BS_AS_LINEA_514|  SI|      COLECTIVO|   MUNICIPAL|BUENOS AIRES|   ALMIRANTE BROWN|    4669|             NO| 01| 01|2020|\n",
            "|       EL URBANO SRL| BS_AS_LINEA_522|  SI|      COLECTIVO|   MUNICIPAL|BUENOS AIRES|             LANUS|     187|             NO| 01| 01|2020|\n",
            "|       EL URBANO SRL| BS_AS_LINEA_527|  SI|      COLECTIVO|   MUNICIPAL|BUENOS AIRES|             LANUS|     543|             NO| 01| 01|2020|\n",
            "|EMPRESA DE TRANSP...|  BSAS_LINEA_200|  SI|      COLECTIVO|  PROVINCIAL|BUENOS AIRES|                SN|     598|             NO| 01| 01|2020|\n",
            "|TRANSPORTE LA UNI...|  BSAS_LINEA_202|  SI|      COLECTIVO|  PROVINCIAL|BUENOS AIRES|                SN|    5090|             NO| 01| 01|2020|\n",
            "|AZUL S.A. DE TRAN...|  BSAS_LINEA_203|  SI|      COLECTIVO|  PROVINCIAL|BUENOS AIRES|                SN|   34296|             NO| 01| 01|2020|\n",
            "|MICRO OMNIBUS TIG...|  BSAS_LINEA_204|  SI|      COLECTIVO|  PROVINCIAL|BUENOS AIRES|                SN|    1981|             NO| 01| 01|2020|\n",
            "|    LINEA SESENTA SA| BSAS_LINEA_204B|  SI|      COLECTIVO|  PROVINCIAL|BUENOS AIRES|                SN|     126|             NO| 01| 01|2020|\n",
            "|TRANSPORTE IDEAL ...|  BSAS_LINEA_205|  SI|      COLECTIVO|  PROVINCIAL|BUENOS AIRES|                SN|     571|             NO| 01| 01|2020|\n",
            "|  UNION PLATENSE SRL|  BSAS_LINEA_214|  SI|      COLECTIVO|  PROVINCIAL|BUENOS AIRES|                SN|    1774|             NO| 01| 01|2020|\n",
            "|EMPRESA NUEVE DE ...|  BSAS_LINEA_215|  SI|      COLECTIVO|  PROVINCIAL|BUENOS AIRES|                SN|    1188|             NO| 01| 01|2020|\n",
            "|ALMAFUERTE EMPRES...|  BSAS_LINEA_218|  SI|      COLECTIVO|  PROVINCIAL|BUENOS AIRES|                SN|    4328|             NO| 01| 01|2020|\n",
            "|MICRO OMNIBUS QUI...|  BSAS_LINEA_219|  SI|      COLECTIVO|  PROVINCIAL|BUENOS AIRES|                SN|    3351|             NO| 01| 01|2020|\n",
            "|EXPRESO ESTEBAN E...|  BSAS_LINEA_222|  SI|      COLECTIVO|  PROVINCIAL|BUENOS AIRES|                SN|    1574|             NO| 01| 01|2020|\n",
            "|EMPRESA NUEVE DE ...|  BSAS_LINEA_225|  SI|      COLECTIVO|  PROVINCIAL|BUENOS AIRES|                SN|     263|             NO| 01| 01|2020|\n",
            "|MICRO OMNIBUS TIG...| BSAS_LINEA_228C|  SI|      COLECTIVO|  PROVINCIAL|BUENOS AIRES|                SN|     975|             NO| 01| 01|2020|\n",
            "|MICRO OMNIBUS TIG...| BSAS_LINEA_228E|  SI|      COLECTIVO|  PROVINCIAL|BUENOS AIRES|                SN|     597|             NO| 01| 01|2020|\n",
            "+--------------------+----------------+----+---------------+------------+------------+------------------+--------+---------------+---+---+----+\n",
            "only showing top 20 rows\n",
            "\n"
          ]
        }
      ]
    },
    {
      "cell_type": "code",
      "source": [
        "date_split_2021 = F.split(df_2021[\"FECHA_TRANSPORTE\"],'-')\n",
        "\n",
        "final_df_2021 = df_2021.withColumn(\"Dia\",date_split_2021.getItem(2))\n",
        "final_df_2021 = final_df_2021.withColumn(\"Mes\",date_split_2021.getItem(1))\n",
        "final_df_2021 = final_df_2021.withColumn(\"Año\",date_split_2021.getItem(0))\n",
        "\n",
        "final_df_2021 = final_df_2021.drop(\"FECHA_TRANSPORTE\")"
      ],
      "metadata": {
        "id": "5NxdAgAxsgm3"
      },
      "execution_count": null,
      "outputs": []
    },
    {
      "cell_type": "code",
      "source": [
        "final_df_2021.show()"
      ],
      "metadata": {
        "colab": {
          "base_uri": "https://localhost:8080/"
        },
        "id": "8DwGDoOwsq6g",
        "outputId": "ccd3fd25-1cd3-4291-b4a4-5a653cd57e31"
      },
      "execution_count": null,
      "outputs": [
        {
          "output_type": "stream",
          "name": "stdout",
          "text": [
            "+--------------------+----------------+----+---------------+------------+------------+------------------+--------+---------------+---+---+----+\n",
            "|      NOMBRE_EMPRESA|           LINEA|AMBA|TIPO_TRANSPORTE|JURISDICCION|   PROVINCIA|         MUNICIPIO|CANTIDAD|DATO_PRELIMINAR|Dia|Mes| Año|\n",
            "+--------------------+----------------+----+---------------+------------+------------+------------------+--------+---------------+---+---+----+\n",
            "|  EMPRESA BATAN S.A.|BS_AS_LINEA 715M|  NO|      COLECTIVO|   MUNICIPAL|BUENOS AIRES|GENERAL PUEYRREDON|    1466|             NO| 01| 01|2021|\n",
            "|COMPAÑIA  DE TRAN...| BS_AS_LINEA_326|  SI|      COLECTIVO|  PROVINCIAL|BUENOS AIRES|                SN|     625|             NO| 01| 01|2021|\n",
            "|EMPRESA DE TRANSP...| BS_AS_LINEA_512|  NO|      COLECTIVO|   MUNICIPAL|BUENOS AIRES|GENERAL PUEYRREDON|    1119|             NO| 01| 01|2021|\n",
            "|AUTOBUSES BUENOS ...| BS_AS_LINEA_514|  SI|      COLECTIVO|   MUNICIPAL|BUENOS AIRES|   ALMIRANTE BROWN|    2813|             NO| 01| 01|2021|\n",
            "|       EL URBANO SRL| BS_AS_LINEA_522|  SI|      COLECTIVO|   MUNICIPAL|BUENOS AIRES|             LANUS|      99|             NO| 01| 01|2021|\n",
            "|       EL URBANO SRL| BS_AS_LINEA_527|  SI|      COLECTIVO|   MUNICIPAL|BUENOS AIRES|             LANUS|     362|             NO| 01| 01|2021|\n",
            "|EMPRESA DE TRANSP...|  BSAS_LINEA_200|  SI|      COLECTIVO|  PROVINCIAL|BUENOS AIRES|                SN|     175|             NO| 01| 01|2021|\n",
            "|TRANSPORTE LA UNI...|  BSAS_LINEA_202|  SI|      COLECTIVO|  PROVINCIAL|BUENOS AIRES|                SN|    2748|             NO| 01| 01|2021|\n",
            "|AZUL S.A. DE TRAN...|  BSAS_LINEA_203|  SI|      COLECTIVO|  PROVINCIAL|BUENOS AIRES|                SN|   20189|             NO| 01| 01|2021|\n",
            "|MICRO OMNIBUS TIG...|  BSAS_LINEA_204|  SI|      COLECTIVO|  PROVINCIAL|BUENOS AIRES|                SN|    1441|             NO| 01| 01|2021|\n",
            "|    LINEA SESENTA SA| BSAS_LINEA_204B|  SI|      COLECTIVO|  PROVINCIAL|BUENOS AIRES|                SN|      91|             NO| 01| 01|2021|\n",
            "|TRANSPORTE IDEAL ...|  BSAS_LINEA_205|  SI|      COLECTIVO|  PROVINCIAL|BUENOS AIRES|                SN|     297|             NO| 01| 01|2021|\n",
            "|  UNION PLATENSE SRL|  BSAS_LINEA_214|  SI|      COLECTIVO|  PROVINCIAL|BUENOS AIRES|                SN|    1137|             NO| 01| 01|2021|\n",
            "|EMPRESA NUEVE DE ...|  BSAS_LINEA_215|  SI|      COLECTIVO|  PROVINCIAL|BUENOS AIRES|                SN|     748|             NO| 01| 01|2021|\n",
            "|ALMAFUERTE EMPRES...|  BSAS_LINEA_218|  SI|      COLECTIVO|  PROVINCIAL|BUENOS AIRES|                SN|    2292|             NO| 01| 01|2021|\n",
            "|MICRO OMNIBUS QUI...|  BSAS_LINEA_219|  SI|      COLECTIVO|  PROVINCIAL|BUENOS AIRES|                SN|    1909|             NO| 01| 01|2021|\n",
            "|EXPRESO ESTEBAN E...|  BSAS_LINEA_222|  SI|      COLECTIVO|  PROVINCIAL|BUENOS AIRES|                SN|    1272|             NO| 01| 01|2021|\n",
            "|EMPRESA NUEVE DE ...|  BSAS_LINEA_225|  SI|      COLECTIVO|  PROVINCIAL|BUENOS AIRES|                SN|     157|             NO| 01| 01|2021|\n",
            "|LA NUEVA METROPOL...| BSAS_LINEA_228A|  SI|      COLECTIVO|  PROVINCIAL|BUENOS AIRES|                SN|      63|             NO| 01| 01|2021|\n",
            "|MICRO OMNIBUS TIG...| BSAS_LINEA_228C|  SI|      COLECTIVO|  PROVINCIAL|BUENOS AIRES|                SN|     466|             NO| 01| 01|2021|\n",
            "+--------------------+----------------+----+---------------+------------+------------+------------------+--------+---------------+---+---+----+\n",
            "only showing top 20 rows\n",
            "\n"
          ]
        }
      ]
    },
    {
      "cell_type": "code",
      "source": [
        "date_split_sub_2021 = F.split(df_subsidio_2021[\"FECHA_PAGO\"],'-')\n",
        "\n",
        "final_df_sub_2021 = df_subsidio_2021.withColumn(\"Dia\",date_split_sub_2021.getItem(2))\n",
        "final_df_sub_2021 = final_df_sub_2021.withColumn(\"Mes\",date_split_sub_2021.getItem(1))\n",
        "final_df_sub_2021 = final_df_sub_2021.withColumn(\"Año\",date_split_sub_2021.getItem(0))\n",
        "\n",
        "final_df_sub_2021 = final_df_sub_2021.drop(\"FECHA_PAGO\")"
      ],
      "metadata": {
        "id": "9VF-hJRDuJBy"
      },
      "execution_count": null,
      "outputs": []
    },
    {
      "cell_type": "code",
      "source": [
        "final_df_sub_2021.show()"
      ],
      "metadata": {
        "colab": {
          "base_uri": "https://localhost:8080/"
        },
        "id": "FO6LTtwtu2QW",
        "outputId": "e196aa2d-c841-4e67-b14f-478b73481e73"
      },
      "execution_count": null,
      "outputs": [
        {
          "output_type": "stream",
          "name": "stdout",
          "text": [
            "+------------+---------+---+---+----+\n",
            "|   PROVINCIA|    TOTAL|Dia|Mes| Año|\n",
            "+------------+---------+---+---+----+\n",
            "|BUENOS AIRES|113585263| 10| 01|2021|\n",
            "|BUENOS AIRES|113585263| 10| 02|2021|\n",
            "|BUENOS AIRES|113585263| 10| 03|2021|\n",
            "|BUENOS AIRES|113585263| 10| 04|2021|\n",
            "|BUENOS AIRES|113585263| 10| 05|2021|\n",
            "|BUENOS AIRES|113585263| 10| 06|2021|\n",
            "|BUENOS AIRES|113585263| 10| 07|2021|\n",
            "|BUENOS AIRES|113585263| 10| 08|2021|\n",
            "|BUENOS AIRES|113585263| 10| 09|2021|\n",
            "|BUENOS AIRES|113585263| 10| 10|2021|\n",
            "|BUENOS AIRES|113585263| 10| 11|2021|\n",
            "|BUENOS AIRES|113585263| 10| 12|2021|\n",
            "|     MENDOZA|181728248| 10| 01|2021|\n",
            "|     MENDOZA|181728248| 10| 02|2021|\n",
            "|     MENDOZA|181728248| 10| 03|2021|\n",
            "|     MENDOZA|181728248| 10| 04|2021|\n",
            "|     MENDOZA|181728248| 10| 05|2021|\n",
            "|     MENDOZA|181728248| 10| 06|2021|\n",
            "|     MENDOZA|181728248| 10| 07|2021|\n",
            "|     MENDOZA|181728248| 10| 08|2021|\n",
            "+------------+---------+---+---+----+\n",
            "only showing top 20 rows\n",
            "\n"
          ]
        }
      ]
    },
    {
      "cell_type": "markdown",
      "source": [
        "## **Agregar valor a los datos**"
      ],
      "metadata": {
        "id": "0DnUThVSM5tu"
      }
    },
    {
      "cell_type": "markdown",
      "source": [
        "Los datos por sí solos no nos dicen nada, debemos trabajar con ellos para tomar decisiones. Es por eso que podemos realizar algunas consultas similares a SQL gracias a la librería `pyspark.sql`"
      ],
      "metadata": {
        "id": "uJInhv5gQDfM"
      }
    },
    {
      "cell_type": "markdown",
      "source": [
        "### Total de transacciones por Provincia, Municipio y Fecha en 2020"
      ],
      "metadata": {
        "id": "_Y9bi3A0QUwT"
      }
    },
    {
      "cell_type": "markdown",
      "source": [
        "Para conocer esto debemos agrupar el dataframe con las transacciones del 2020 por las columnas `PROVINCIA`,`MUNICIPIO`,`DIA`,`MES` y `AÑO`.\n",
        "Luego sumamos todas las transacciones de la columna `CANTIDAD`, a esta columna con la suma la renombramos como `TRANSACCIONES` y ordenamos de mayor a menor por dicha columna."
      ],
      "metadata": {
        "id": "5T-KIceCKIVK"
      }
    },
    {
      "cell_type": "code",
      "source": [
        "trans_provincia_2020_df =(final_df_2020 \\\n",
        "  .groupBy('PROVINCIA','MUNICIPIO','DIA','MES','AÑO') \\\n",
        "  .sum('CANTIDAD')\\\n",
        "  .sort('sum(CANTIDAD)',ascending=False)\n",
        "  )\n",
        "trans_provincia_2020_df = trans_provincia_2020_df.withColumnRenamed(\"sum(CANTIDAD)\",\"TRANSACCIONES\")\n",
        "trans_provincia_2020_df.show()"
      ],
      "metadata": {
        "colab": {
          "base_uri": "https://localhost:8080/"
        },
        "id": "cDljdxonQskP",
        "outputId": "8c94a478-74b9-48c1-e99c-a0e13d9d5b06"
      },
      "execution_count": null,
      "outputs": [
        {
          "output_type": "stream",
          "name": "stdout",
          "text": [
            "+------------+---------+---+---+----+-------------+\n",
            "|   PROVINCIA|MUNICIPIO|DIA|MES| AÑO|TRANSACCIONES|\n",
            "+------------+---------+---+---+----+-------------+\n",
            "|BUENOS AIRES|       SN| 13| 03|2020|      3396595|\n",
            "|BUENOS AIRES|       SN| 12| 03|2020|      3395057|\n",
            "|BUENOS AIRES|       SN| 10| 03|2020|      3315328|\n",
            "|BUENOS AIRES|       SN| 06| 03|2020|      3308267|\n",
            "|BUENOS AIRES|       SN| 05| 03|2020|      3181077|\n",
            "|BUENOS AIRES|       SN| 09| 03|2020|      3109171|\n",
            "|BUENOS AIRES|       SN| 04| 03|2020|      3048847|\n",
            "|BUENOS AIRES|       SN| 03| 03|2020|      3037490|\n",
            "|BUENOS AIRES|       SN| 02| 03|2020|      3014187|\n",
            "|BUENOS AIRES|       SN| 28| 02|2020|      2939814|\n",
            "|BUENOS AIRES|       SN| 21| 02|2020|      2931693|\n",
            "|BUENOS AIRES|       SN| 19| 02|2020|      2897820|\n",
            "|BUENOS AIRES|       SN| 14| 02|2020|      2893471|\n",
            "|BUENOS AIRES|       SN| 26| 02|2020|      2883380|\n",
            "|BUENOS AIRES|       SN| 20| 02|2020|      2839463|\n",
            "|BUENOS AIRES|       SN| 12| 02|2020|      2830251|\n",
            "|BUENOS AIRES|       SN| 27| 02|2020|      2828494|\n",
            "|BUENOS AIRES|       SN| 18| 02|2020|      2827097|\n",
            "|BUENOS AIRES|       SN| 13| 02|2020|      2797593|\n",
            "|BUENOS AIRES|       SN| 10| 02|2020|      2777334|\n",
            "+------------+---------+---+---+----+-------------+\n",
            "only showing top 20 rows\n",
            "\n"
          ]
        }
      ]
    },
    {
      "cell_type": "markdown",
      "source": [
        "### Total de transacciones por Provincia, Municipio y Fecha en 2021"
      ],
      "metadata": {
        "id": "CRFCkoo3u6Nh"
      }
    },
    {
      "cell_type": "markdown",
      "source": [
        "Procedemos igual que con el dataframe del 2020, agrupamos por las columnas `PROVINCIA`,`MUNICIPIO`,`DIA`,`MES` y `AÑO`.\n",
        "También sumamos todas las transacciones de la columna `CANTIDAD`, y la renombramos como `TRANSACCIONES` y ordenamos de mayor a menor por dicha columna."
      ],
      "metadata": {
        "id": "zgg6t-kILTwg"
      }
    },
    {
      "cell_type": "code",
      "source": [
        "trans_provincia_2021_df =(final_df_2021 \\\n",
        "  .groupBy('PROVINCIA','MUNICIPIO','DIA','MES','AÑO') \\\n",
        "  .sum('CANTIDAD')\\\n",
        "  .sort('sum(CANTIDAD)',ascending=False)\n",
        "  )\n",
        "trans_provincia_2021_df = trans_provincia_2021_df.withColumnRenamed(\"sum(CANTIDAD)\",\"TRANSACCIONES\")\n",
        "trans_provincia_2021_df.show()"
      ],
      "metadata": {
        "colab": {
          "base_uri": "https://localhost:8080/"
        },
        "id": "4nT2F_oNumyn",
        "outputId": "a7dacf70-f805-4b06-c594-0ef7de56cc4c"
      },
      "execution_count": null,
      "outputs": [
        {
          "output_type": "stream",
          "name": "stdout",
          "text": [
            "+------------+---------+---+---+----+-------------+\n",
            "|   PROVINCIA|MUNICIPIO|DIA|MES| AÑO|TRANSACCIONES|\n",
            "+------------+---------+---+---+----+-------------+\n",
            "|BUENOS AIRES|       SN| 12| 11|2021|      3110362|\n",
            "|BUENOS AIRES|       SN| 19| 11|2021|      3108702|\n",
            "|BUENOS AIRES|       SN| 05| 11|2021|      3096851|\n",
            "|BUENOS AIRES|       SN| 07| 12|2021|      3087722|\n",
            "|BUENOS AIRES|       SN| 17| 11|2021|      3076021|\n",
            "|BUENOS AIRES|       SN| 10| 11|2021|      3074143|\n",
            "|BUENOS AIRES|       SN| 03| 12|2021|      3074024|\n",
            "|BUENOS AIRES|       SN| 18| 11|2021|      3048279|\n",
            "|BUENOS AIRES|       SN| 26| 11|2021|      3044062|\n",
            "|BUENOS AIRES|       SN| 11| 11|2021|      3043134|\n",
            "|BUENOS AIRES|       SN| 09| 11|2021|      3019042|\n",
            "|BUENOS AIRES|       SN| 15| 10|2021|      3007216|\n",
            "|BUENOS AIRES|       SN| 09| 12|2021|      2993182|\n",
            "|BUENOS AIRES|       SN| 17| 12|2021|      2987174|\n",
            "|BUENOS AIRES|       SN| 22| 12|2021|      2970460|\n",
            "|BUENOS AIRES|       SN| 04| 11|2021|      2964840|\n",
            "|BUENOS AIRES|       SN| 24| 11|2021|      2955493|\n",
            "|BUENOS AIRES|       SN| 01| 12|2021|      2954320|\n",
            "|BUENOS AIRES|       SN| 30| 11|2021|      2953051|\n",
            "|BUENOS AIRES|       SN| 23| 11|2021|      2953037|\n",
            "+------------+---------+---+---+----+-------------+\n",
            "only showing top 20 rows\n",
            "\n"
          ]
        }
      ]
    },
    {
      "cell_type": "markdown",
      "source": [
        "### Total de subsidios por provincia en 2021"
      ],
      "metadata": {
        "id": "g1kzskbUfDqB"
      }
    },
    {
      "cell_type": "markdown",
      "source": [
        "Si quisieramos conocer el total de subsidios al transporte recibidos durante el 2021, podemos agrupar por la columna `PROVINCIA` y realizar la sumatoria de la columna `TOTAL`. Luego la renombramos como `TOTAL`. Para establecer un ranking, ordenamos de mayor a menor."
      ],
      "metadata": {
        "id": "sbqeH3UxTStY"
      }
    },
    {
      "cell_type": "code",
      "source": [
        "total_subsidios_df =(final_df_sub_2021 \\\n",
        "  .groupBy('PROVINCIA') \\\n",
        "  .sum('TOTAL')\\\n",
        "  .sort('sum(TOTAL)',ascending=False)\n",
        "  )\n",
        "total_subsidios_df = total_subsidios_df.withColumnRenamed(\"sum(TOTAL)\",\"TOTAL\")\n",
        "total_subsidios_df.show(total_subsidios_df.count())"
      ],
      "metadata": {
        "colab": {
          "base_uri": "https://localhost:8080/"
        },
        "id": "b9B-tN4yfZHh",
        "outputId": "f5cc06f8-5ba4-4e0b-b602-7a8f010422b9"
      },
      "execution_count": null,
      "outputs": [
        {
          "output_type": "stream",
          "name": "stdout",
          "text": [
            "+-------------------+----------+\n",
            "|          PROVINCIA|     TOTAL|\n",
            "+-------------------+----------+\n",
            "|            CORDOBA|3542551656|\n",
            "|           SANTA FE|2714865252|\n",
            "|            MENDOZA|2180738976|\n",
            "|            TUCUMÁN|1831142376|\n",
            "|       BUENOS AIRES|1363023156|\n",
            "|              SALTA|1179779856|\n",
            "|           MISIONES| 949205412|\n",
            "|              JUJUY| 754093512|\n",
            "|           SAN JUAN| 645703188|\n",
            "|         ENTRE RÍOS| 620872080|\n",
            "|SANTIAGO DEL ESTERO| 618501984|\n",
            "|         CORRIENTES| 453287892|\n",
            "|              CHACO| 450484896|\n",
            "|             CHUBUT| 377476368|\n",
            "|            NEUQUÉN| 361999596|\n",
            "|           SAN LUIS| 305012736|\n",
            "|          RÍO NEGRO| 267163752|\n",
            "|          CATAMARCA| 223889892|\n",
            "|           LA RIOJA| 139131012|\n",
            "|            FORMOSA| 119908212|\n",
            "|           LA PAMPA|  66208020|\n",
            "|         SANTA CRUZ|  38924172|\n",
            "|   TIERRA DEL FUEGO|  34678296|\n",
            "+-------------------+----------+\n",
            "\n"
          ]
        }
      ]
    },
    {
      "cell_type": "markdown",
      "source": [
        "Podemos observar que `CORDOBA` es la provincia que mayor dinero recibió en concepto de subsidios al transporte público de pasajeros."
      ],
      "metadata": {
        "id": "vqeaHbb4TwZq"
      }
    },
    {
      "cell_type": "markdown",
      "source": [
        "### Top de subsidios por habitante por provincia en 2021"
      ],
      "metadata": {
        "id": "t6czWtYbhXZ7"
      }
    },
    {
      "cell_type": "markdown",
      "source": [
        "Si necesitamos conocer el monto que cada provincia subsidia en transporte por cada habitante. Debemos realizar una operación `.join()`, entre los dataframes `total_subsidios_df` calculado en el paso anterior con el dataframe `df_poblacion_2010` que cuenta con la población de cada provincia según el censo 2010. Los parametros para el join serán las columnas `PROVINCIA` y `PROVINCIA_NOMBRE` de cada dataframe y el parametro `inner` ya que queremos realizar un inner join.\n",
        "Para calcular el subsidio por habitante, dividimos la columna `TOTAL` con la columna `POBLACION_TOTAL`, a esa columna resultante la renombramos como `SUBSIDIO_POR_HABITANTE`. Luego ordenamos el dataframe de mayor a menor por dicha columna."
      ],
      "metadata": {
        "id": "VVPOHQ3OUof8"
      }
    },
    {
      "cell_type": "code",
      "source": [
        "df_sub_x_hab =(total_subsidios_df \\\n",
        "  .join(df_poblacion_2010,(total_subsidios_df[\"PROVINCIA\"]==df_poblacion_2010[\"PROVINCIA_NOMBRE\"]),'inner'))\n",
        "\n",
        "df_sub_x_hab = df_sub_x_hab.withColumn(\"SUBSIDIO_POR_HABITANTE\",df_sub_x_hab[\"TOTAL\"]/df_sub_x_hab[\"POBLACION_TOTAL\"])\n",
        "\n",
        "df_sub_x_hab = df_sub_x_hab.select(\"PROVINCIA\",\"TOTAL\",\"POBLACION_TOTAL\",\"SUBSIDIO_POR_HABITANTE\").sort(\"SUBSIDIO_POR_HABITANTE\",ascending=False)\n",
        "df_sub_x_hab.show(25)"
      ],
      "metadata": {
        "colab": {
          "base_uri": "https://localhost:8080/"
        },
        "id": "sU-Et4xvezC6",
        "outputId": "7b70e332-fd67-47dc-8de8-460644678301"
      },
      "execution_count": null,
      "outputs": [
        {
          "output_type": "stream",
          "name": "stdout",
          "text": [
            "+-------------------+----------+---------------+----------------------+\n",
            "|          PROVINCIA|     TOTAL|POBLACION_TOTAL|SUBSIDIO_POR_HABITANTE|\n",
            "+-------------------+----------+---------------+----------------------+\n",
            "|            TUCUMÁN|1831142376|        1448188|    1264.4369211732178|\n",
            "|            MENDOZA|2180738976|        1738929|     1254.070163876731|\n",
            "|              JUJUY| 754093512|         673307|    1119.9846607862387|\n",
            "|            CORDOBA|3542551656|        3308876|    1070.6208561457124|\n",
            "|              SALTA|1179779856|        1214441|     971.4591783380173|\n",
            "|           SAN JUAN| 645703188|         681055|     948.0925740211877|\n",
            "|           MISIONES| 949205412|        1101593|     861.6661616404607|\n",
            "|           SANTA FE|2714865252|        3194537|     849.8462381246484|\n",
            "|             CHUBUT| 377476368|         509108|     741.4465457231079|\n",
            "|SANTIAGO DEL ESTERO| 618501984|         874006|     707.6633158124772|\n",
            "|           SAN LUIS| 305012736|         432310|      705.541708496218|\n",
            "|            NEUQUÉN| 361999596|         551266|     656.6695497273548|\n",
            "|          CATAMARCA| 223889892|         367828|     608.6809378296377|\n",
            "|         ENTRE RÍOS| 620872080|        1235994|     502.3261277967369|\n",
            "|         CORRIENTES| 453287892|         992595|    456.66952986867756|\n",
            "|              CHACO| 450484896|        1055259|    426.89509968642767|\n",
            "|          RÍO NEGRO| 267163752|         638645|    418.32904352183135|\n",
            "|           LA RIOJA| 139131012|         333642|      417.006887622062|\n",
            "|   TIERRA DEL FUEGO|  34678296|         127205|    272.61739711489327|\n",
            "|            FORMOSA| 119908212|         530162|    226.17277737748086|\n",
            "|           LA PAMPA|  66208020|         318951|    207.58053744932607|\n",
            "|         SANTA CRUZ|  38924172|         273964|    142.07768903943582|\n",
            "|       BUENOS AIRES|1363023156|       15625083|     87.23301860220519|\n",
            "+-------------------+----------+---------------+----------------------+\n",
            "\n"
          ]
        }
      ]
    },
    {
      "cell_type": "markdown",
      "source": [
        "Podemos observar que `TUCUMÁN` es la provincia que mas subsidia el boleto de `COLECTIVO` de cada habitante."
      ],
      "metadata": {
        "id": "tO0N7xpAWZQ2"
      }
    },
    {
      "cell_type": "markdown",
      "source": [
        "### Top 4 de Transacciones por Fecha por Provincia y Municipio en 2020"
      ],
      "metadata": {
        "id": "cx5A6WUFvMXA"
      }
    },
    {
      "cell_type": "markdown",
      "source": [
        "También podemos aplicar operaciónes de ventana(windowing) que son muy útiles para elaborar rankings entre otros usos muy útiles.\n",
        "Por ejemplo, queremos conocer el top 4 de transacciones por `DIA`,`MES`,`AÑO`, `PROVINCIA`,`MUNICIPIO` y `TRANSACCIONES`.\n",
        "Para ello, particionamos por las columnas `DIA`,`MES` y `AÑO` al dataframe con el total de transacciones en 2020 y las ordenamos de mayor a menor por `TRANSACCIONES`. Creamos una nueva columna llamada `ranking` con el numero de puesto en dicho ranking y luego filtramos las primeras 4 de cada ventana."
      ],
      "metadata": {
        "id": "MnO_uSU7Y4hs"
      }
    },
    {
      "cell_type": "code",
      "source": [
        "from pyspark.sql.window import Window\n",
        "columns_2020 = [\"DIA\",\"MES\",\"AÑO\"]\n",
        "w = Window.partitionBy(\n",
        "columns_2020)\\\n",
        "    .orderBy(trans_provincia_2020_df[\"TRANSACCIONES\"]\\\n",
        "             .desc())\n",
        "df_ranked = trans_provincia_2020_df.select(\"PROVINCIA\",\"MUNICIPIO\",\"TRANSACCIONES\",\n",
        "                                           \"DIA\",\"MES\",\"AÑO\",\n",
        "                                           F.rank().over(w).alias(\"ranking\"))\n",
        "df_top_4_2020 = df_ranked.filter(df_ranked[\"ranking\"]<=4)\n",
        "df_top_4_2020.show()"
      ],
      "metadata": {
        "colab": {
          "base_uri": "https://localhost:8080/"
        },
        "id": "yYKQZR7yemPJ",
        "outputId": "8f579742-37cd-4731-9e99-c616b9f77345"
      },
      "execution_count": null,
      "outputs": [
        {
          "output_type": "stream",
          "name": "stdout",
          "text": [
            "+------------+--------------------+-------------+---+---+----+-------+\n",
            "|   PROVINCIA|           MUNICIPIO|TRANSACCIONES|DIA|MES| AÑO|ranking|\n",
            "+------------+--------------------+-------------+---+---+----+-------+\n",
            "|BUENOS AIRES|                  SN|       711254| 22| 04|2020|      1|\n",
            "|BUENOS AIRES|          LA MATANZA|        68191| 22| 04|2020|      2|\n",
            "|       JUJUY|SAN SALVADOR DE J...|        55959| 22| 04|2020|      3|\n",
            "|    SAN JUAN|                  SN|        51998| 22| 04|2020|      4|\n",
            "|BUENOS AIRES|                  SN|      3308267| 06| 03|2020|      1|\n",
            "|BUENOS AIRES|  GENERAL PUEYRREDON|       343456| 06| 03|2020|      2|\n",
            "|    SAN JUAN|                  SN|       323854| 06| 03|2020|      3|\n",
            "|BUENOS AIRES|          LA MATANZA|       251202| 06| 03|2020|      4|\n",
            "|BUENOS AIRES|                  SN|       626144| 01| 08|2020|      1|\n",
            "|    SAN JUAN|                  SN|        83223| 01| 08|2020|      2|\n",
            "|     MENDOZA|                  SN|        70786| 01| 08|2020|      3|\n",
            "|BUENOS AIRES|  GENERAL PUEYRREDON|        63124| 01| 08|2020|      4|\n",
            "|BUENOS AIRES|                  SN|      1279487| 14| 10|2020|      1|\n",
            "|     MENDOZA|                  SN|       212654| 14| 10|2020|      2|\n",
            "|    SAN JUAN|                  SN|       110249| 14| 10|2020|      3|\n",
            "|BUENOS AIRES|          LA MATANZA|        99829| 14| 10|2020|      4|\n",
            "|BUENOS AIRES|                  SN|      2426590| 17| 02|2020|      1|\n",
            "|BUENOS AIRES|  GENERAL PUEYRREDON|       286454| 17| 02|2020|      2|\n",
            "|    SAN JUAN|                  SN|       223613| 17| 02|2020|      3|\n",
            "|BUENOS AIRES|          LA MATANZA|       178969| 17| 02|2020|      4|\n",
            "+------------+--------------------+-------------+---+---+----+-------+\n",
            "only showing top 20 rows\n",
            "\n"
          ]
        }
      ]
    },
    {
      "cell_type": "markdown",
      "source": [
        "### Top 4 de Transacciones por Fecha por Provincia y Municipio en 2021"
      ],
      "metadata": {
        "id": "aPP_dR3EvZuP"
      }
    },
    {
      "cell_type": "markdown",
      "source": [
        "Procedemos de manera similar con el dataframe de las transacciones del 2021 `trans_provincia_2021` para elaborar el top 4."
      ],
      "metadata": {
        "id": "7meIHBaCaxmi"
      }
    },
    {
      "cell_type": "code",
      "source": [
        "columns_2021 = [\"DIA\",\"MES\",\"AÑO\"]\n",
        "t = Window.partitionBy(\n",
        "  columns_2021)\\\n",
        "    .orderBy(trans_provincia_2021_df[\"TRANSACCIONES\"]\\\n",
        "             .desc())\n",
        "df_ranked_2021 = trans_provincia_2021_df.select(\"PROVINCIA\",\"MUNICIPIO\",\"TRANSACCIONES\",\n",
        "                                           \"DIA\",\"MES\",\"AÑO\",\n",
        "                                           F.rank().over(t).alias(\"ranking\"))\n",
        "df_top_4_2021 = df_ranked_2021.filter(df_ranked_2021[\"ranking\"]<=4)\n",
        "df_top_4_2021.show()"
      ],
      "metadata": {
        "colab": {
          "base_uri": "https://localhost:8080/"
        },
        "id": "ZFLzJWFNuawq",
        "outputId": "f6e95ec5-0d31-40ec-a6fb-f306ec097f6b"
      },
      "execution_count": null,
      "outputs": [
        {
          "output_type": "stream",
          "name": "stdout",
          "text": [
            "+------------+--------------------+-------------+---+---+----+-------+\n",
            "|   PROVINCIA|           MUNICIPIO|TRANSACCIONES|DIA|MES| AÑO|ranking|\n",
            "+------------+--------------------+-------------+---+---+----+-------+\n",
            "|BUENOS AIRES|                  SN|      1538781| 19| 04|2021|      1|\n",
            "|     MENDOZA|                  SN|       423011| 19| 04|2021|      2|\n",
            "|    SAN JUAN|                  SN|       199325| 19| 04|2021|      3|\n",
            "|BUENOS AIRES|  GENERAL PUEYRREDON|       160255| 19| 04|2021|      4|\n",
            "|BUENOS AIRES|                  SN|      1419267| 06| 02|2021|      1|\n",
            "|     MENDOZA|                  SN|       260625| 06| 02|2021|      2|\n",
            "|BUENOS AIRES|  GENERAL PUEYRREDON|       116484| 06| 02|2021|      3|\n",
            "|BUENOS AIRES|              MORENO|        98379| 06| 02|2021|      4|\n",
            "|BUENOS AIRES|                  SN|       855926| 07| 03|2021|      1|\n",
            "|     MENDOZA|                  SN|       150820| 07| 03|2021|      2|\n",
            "|BUENOS AIRES|  GENERAL PUEYRREDON|        78539| 07| 03|2021|      3|\n",
            "|BUENOS AIRES|              MORENO|        62072| 07| 03|2021|      4|\n",
            "|BUENOS AIRES|                  SN|      1693896| 10| 02|2021|      1|\n",
            "|     MENDOZA|                  SN|       397496| 10| 02|2021|      2|\n",
            "|    SAN JUAN|                  SN|       154344| 10| 02|2021|      3|\n",
            "|BUENOS AIRES|  GENERAL PUEYRREDON|       145243| 10| 02|2021|      4|\n",
            "|BUENOS AIRES|                  SN|       903466| 29| 05|2021|      1|\n",
            "|     MENDOZA|                  SN|       155232| 29| 05|2021|      2|\n",
            "|       JUJUY|SAN SALVADOR DE J...|        93370| 29| 05|2021|      3|\n",
            "|BUENOS AIRES|          LA MATANZA|        69243| 29| 05|2021|      4|\n",
            "+------------+--------------------+-------------+---+---+----+-------+\n",
            "only showing top 20 rows\n",
            "\n"
          ]
        }
      ]
    },
    {
      "cell_type": "markdown",
      "source": [
        "### Listar la tercera `LINEA` de `COLECTIVO` que mas transacciones tuvo por `PROVINCIA` y por `DIA`,`MES` y `AÑO` durante 2020 y 2021"
      ],
      "metadata": {
        "id": "9Q0XJjVqpLyb"
      }
    },
    {
      "cell_type": "markdown",
      "source": [
        "Para resolver esto primero vamos a proceder a unir a los dos dataframes del 2020 y del 2021. Aplicamos el método .`union()`. Luego mostramos el dataframe resultante con `.show()`."
      ],
      "metadata": {
        "id": "yfl7kvkzpois"
      }
    },
    {
      "cell_type": "code",
      "source": [
        "df_2020_2021 = final_df_2021.union(final_df_2020)\n",
        "df_2020_2021.show()"
      ],
      "metadata": {
        "colab": {
          "base_uri": "https://localhost:8080/"
        },
        "id": "saB2be50fsDV",
        "outputId": "3b27ec21-1163-4428-ea5b-e423f2949a60"
      },
      "execution_count": null,
      "outputs": [
        {
          "output_type": "stream",
          "name": "stdout",
          "text": [
            "+--------------------+----------------+----+---------------+------------+------------+------------------+--------+---------------+---+---+----+\n",
            "|      NOMBRE_EMPRESA|           LINEA|AMBA|TIPO_TRANSPORTE|JURISDICCION|   PROVINCIA|         MUNICIPIO|CANTIDAD|DATO_PRELIMINAR|Dia|Mes| Año|\n",
            "+--------------------+----------------+----+---------------+------------+------------+------------------+--------+---------------+---+---+----+\n",
            "|  EMPRESA BATAN S.A.|BS_AS_LINEA 715M|  NO|      COLECTIVO|   MUNICIPAL|BUENOS AIRES|GENERAL PUEYRREDON|    1466|             NO| 01| 01|2021|\n",
            "|COMPAÑIA  DE TRAN...| BS_AS_LINEA_326|  SI|      COLECTIVO|  PROVINCIAL|BUENOS AIRES|                SN|     625|             NO| 01| 01|2021|\n",
            "|EMPRESA DE TRANSP...| BS_AS_LINEA_512|  NO|      COLECTIVO|   MUNICIPAL|BUENOS AIRES|GENERAL PUEYRREDON|    1119|             NO| 01| 01|2021|\n",
            "|AUTOBUSES BUENOS ...| BS_AS_LINEA_514|  SI|      COLECTIVO|   MUNICIPAL|BUENOS AIRES|   ALMIRANTE BROWN|    2813|             NO| 01| 01|2021|\n",
            "|       EL URBANO SRL| BS_AS_LINEA_522|  SI|      COLECTIVO|   MUNICIPAL|BUENOS AIRES|             LANUS|      99|             NO| 01| 01|2021|\n",
            "|       EL URBANO SRL| BS_AS_LINEA_527|  SI|      COLECTIVO|   MUNICIPAL|BUENOS AIRES|             LANUS|     362|             NO| 01| 01|2021|\n",
            "|EMPRESA DE TRANSP...|  BSAS_LINEA_200|  SI|      COLECTIVO|  PROVINCIAL|BUENOS AIRES|                SN|     175|             NO| 01| 01|2021|\n",
            "|TRANSPORTE LA UNI...|  BSAS_LINEA_202|  SI|      COLECTIVO|  PROVINCIAL|BUENOS AIRES|                SN|    2748|             NO| 01| 01|2021|\n",
            "|AZUL S.A. DE TRAN...|  BSAS_LINEA_203|  SI|      COLECTIVO|  PROVINCIAL|BUENOS AIRES|                SN|   20189|             NO| 01| 01|2021|\n",
            "|MICRO OMNIBUS TIG...|  BSAS_LINEA_204|  SI|      COLECTIVO|  PROVINCIAL|BUENOS AIRES|                SN|    1441|             NO| 01| 01|2021|\n",
            "|    LINEA SESENTA SA| BSAS_LINEA_204B|  SI|      COLECTIVO|  PROVINCIAL|BUENOS AIRES|                SN|      91|             NO| 01| 01|2021|\n",
            "|TRANSPORTE IDEAL ...|  BSAS_LINEA_205|  SI|      COLECTIVO|  PROVINCIAL|BUENOS AIRES|                SN|     297|             NO| 01| 01|2021|\n",
            "|  UNION PLATENSE SRL|  BSAS_LINEA_214|  SI|      COLECTIVO|  PROVINCIAL|BUENOS AIRES|                SN|    1137|             NO| 01| 01|2021|\n",
            "|EMPRESA NUEVE DE ...|  BSAS_LINEA_215|  SI|      COLECTIVO|  PROVINCIAL|BUENOS AIRES|                SN|     748|             NO| 01| 01|2021|\n",
            "|ALMAFUERTE EMPRES...|  BSAS_LINEA_218|  SI|      COLECTIVO|  PROVINCIAL|BUENOS AIRES|                SN|    2292|             NO| 01| 01|2021|\n",
            "|MICRO OMNIBUS QUI...|  BSAS_LINEA_219|  SI|      COLECTIVO|  PROVINCIAL|BUENOS AIRES|                SN|    1909|             NO| 01| 01|2021|\n",
            "|EXPRESO ESTEBAN E...|  BSAS_LINEA_222|  SI|      COLECTIVO|  PROVINCIAL|BUENOS AIRES|                SN|    1272|             NO| 01| 01|2021|\n",
            "|EMPRESA NUEVE DE ...|  BSAS_LINEA_225|  SI|      COLECTIVO|  PROVINCIAL|BUENOS AIRES|                SN|     157|             NO| 01| 01|2021|\n",
            "|LA NUEVA METROPOL...| BSAS_LINEA_228A|  SI|      COLECTIVO|  PROVINCIAL|BUENOS AIRES|                SN|      63|             NO| 01| 01|2021|\n",
            "|MICRO OMNIBUS TIG...| BSAS_LINEA_228C|  SI|      COLECTIVO|  PROVINCIAL|BUENOS AIRES|                SN|     466|             NO| 01| 01|2021|\n",
            "+--------------------+----------------+----+---------------+------------+------------+------------------+--------+---------------+---+---+----+\n",
            "only showing top 20 rows\n",
            "\n"
          ]
        }
      ]
    },
    {
      "cell_type": "markdown",
      "source": [
        "Después procedemos a agrupar el dataframe `df_2020_2021` por las columnas `DIA`,`MES`,`AÑO`,`LINEA` y `PROVINCIA`.\n",
        "Realizamos la sumatoria de la columna `CANTIDAD` y la renombramos como `TRANSACCIONES`. Luego ordenamos de manera descendente por dicha columna. Luego vemos el resultado con `.show()`"
      ],
      "metadata": {
        "id": "BX5sKUGvqDLT"
      }
    },
    {
      "cell_type": "code",
      "source": [
        "df_2020_2021_agrupado =(df_2020_2021 \\\n",
        "  .groupBy('DIA','MES','AÑO','LINEA','PROVINCIA') \\\n",
        "  .sum(\"CANTIDAD\") \\\n",
        "  .sort('sum(CANTIDAD)',ascending=False))\n",
        "\n",
        "df_2020_2021_final = df_2020_2021_agrupado.withColumnRenamed(\"sum(CANTIDAD)\",\"TRANSACCIONES\")\n",
        "df_2020_2021_final.show()"
      ],
      "metadata": {
        "colab": {
          "base_uri": "https://localhost:8080/"
        },
        "id": "uiJe8ae7mh4L",
        "outputId": "e70f707c-282d-48ac-8964-78be3d1e67b6"
      },
      "execution_count": null,
      "outputs": [
        {
          "output_type": "stream",
          "name": "stdout",
          "text": [
            "+---+---+----+---------------+------------+-------------+\n",
            "|DIA|MES| AÑO|          LINEA|   PROVINCIA|TRANSACCIONES|\n",
            "+---+---+----+---------------+------------+-------------+\n",
            "| 13| 03|2020|BSAS_LINEA_501G|BUENOS AIRES|       194098|\n",
            "| 10| 03|2020|BSAS_LINEA_501G|BUENOS AIRES|       189299|\n",
            "| 12| 03|2020|BSAS_LINEA_501G|BUENOS AIRES|       187842|\n",
            "| 06| 03|2020|BSAS_LINEA_501G|BUENOS AIRES|       187382|\n",
            "| 05| 03|2020|BSAS_LINEA_501G|BUENOS AIRES|       180607|\n",
            "| 05| 11|2021|BSAS_LINEA_501G|BUENOS AIRES|       178984|\n",
            "| 12| 11|2021|BSAS_LINEA_501G|BUENOS AIRES|       178398|\n",
            "| 19| 11|2021|BSAS_LINEA_501G|BUENOS AIRES|       178167|\n",
            "| 10| 11|2021|BSAS_LINEA_501G|BUENOS AIRES|       177297|\n",
            "| 07| 12|2021|BSAS_LINEA_501G|BUENOS AIRES|       176011|\n",
            "| 17| 11|2021|BSAS_LINEA_501G|BUENOS AIRES|       174850|\n",
            "| 18| 11|2021|BSAS_LINEA_501G|BUENOS AIRES|       174693|\n",
            "| 09| 11|2021|BSAS_LINEA_501G|BUENOS AIRES|       174231|\n",
            "| 26| 11|2021|BSAS_LINEA_501G|BUENOS AIRES|       174197|\n",
            "| 17| 12|2021|BSAS_LINEA_501G|BUENOS AIRES|       173603|\n",
            "| 09| 03|2020|BSAS_LINEA_501G|BUENOS AIRES|       173491|\n",
            "| 11| 11|2021|BSAS_LINEA_501G|BUENOS AIRES|       173419|\n",
            "| 21| 02|2020|BSAS_LINEA_501G|BUENOS AIRES|       173197|\n",
            "| 05| 10|2021|BSAS_LINEA_501G|BUENOS AIRES|       172885|\n",
            "| 14| 02|2020|BSAS_LINEA_501G|BUENOS AIRES|       172613|\n",
            "+---+---+----+---------------+------------+-------------+\n",
            "only showing top 20 rows\n",
            "\n"
          ]
        }
      ]
    },
    {
      "cell_type": "markdown",
      "source": [
        "Finalmente, particionamos por las columnas `DIA`,`MES` y `AÑO` y ordenamos de manera descendente por `TRANSACCIONES`. Luego filtramos las líneas de colectivo que ocuparon el puesto 3 en `ranking`. Después vemos el resultado con `.show()`."
      ],
      "metadata": {
        "id": "NKsEb5UQrS8z"
      }
    },
    {
      "cell_type": "code",
      "source": [
        "c = [\"DIA\",\"MES\",\"AÑO\"]\n",
        "x = Window.partitionBy(\n",
        "  c)\\\n",
        "    .orderBy(df_2020_2021_final[\"TRANSACCIONES\"]\\\n",
        "             .desc())\n",
        "ranking_3_linea = df_2020_2021_final.withColumn(\"ranking\",F.rank().over(x).alias(\"ranking\"))\n",
        "ranking_3_linea = ranking_3_linea.filter(ranking_3_linea[\"ranking\"]==3)\n",
        "ranking_3_linea.show()"
      ],
      "metadata": {
        "colab": {
          "base_uri": "https://localhost:8080/"
        },
        "id": "e-t6GdmPnlC0",
        "outputId": "43c6b8dd-6a67-4564-c5c3-a7c1b88dd845"
      },
      "execution_count": null,
      "outputs": [
        {
          "output_type": "stream",
          "name": "stdout",
          "text": [
            "+---+---+----+--------------+------------+-------------+-------+\n",
            "|DIA|MES| AÑO|         LINEA|   PROVINCIA|TRANSACCIONES|ranking|\n",
            "+---+---+----+--------------+------------+-------------+-------+\n",
            "| 19| 04|2021|BSAS_LINEA_365|BUENOS AIRES|        63542|      3|\n",
            "| 22| 04|2020|BSAS_LINEA_365|BUENOS AIRES|        30347|      3|\n",
            "| 06| 02|2021|BSAS_LINEA_440|BUENOS AIRES|        55572|      3|\n",
            "| 06| 03|2020|BSAS_LINEA_440|BUENOS AIRES|       107817|      3|\n",
            "| 07| 03|2021|BSAS_LINEA_365|BUENOS AIRES|        36027|      3|\n",
            "| 10| 02|2021|BSAS_LINEA_365|BUENOS AIRES|        65058|      3|\n",
            "| 29| 05|2021|BSAS_LINEA_365|BUENOS AIRES|        32149|      3|\n",
            "| 01| 08|2020|BSAS_LINEA_365|BUENOS AIRES|        24519|      3|\n",
            "| 05| 09|2021|BSAS_LINEA_365|BUENOS AIRES|        38621|      3|\n",
            "| 08| 03|2021|BSAS_LINEA_365|BUENOS AIRES|        80905|      3|\n",
            "| 08| 02|2021|BSAS_LINEA_365|BUENOS AIRES|        69398|      3|\n",
            "| 12| 12|2021|BSAS_LINEA_365|BUENOS AIRES|        42534|      3|\n",
            "| 14| 10|2020|BSAS_LINEA_365|BUENOS AIRES|        47462|      3|\n",
            "| 17| 02|2020|BSAS_LINEA_365|BUENOS AIRES|        80304|      3|\n",
            "| 30| 03|2020|BSAS_LINEA_203|BUENOS AIRES|        17208|      3|\n",
            "| 15| 10|2020|BSAS_LINEA_365|BUENOS AIRES|        51479|      3|\n",
            "| 23| 02|2021|BSAS_LINEA_365|BUENOS AIRES|        76882|      3|\n",
            "| 02| 10|2021|BSAS_LINEA_440|BUENOS AIRES|        62352|      3|\n",
            "| 08| 07|2020|BSAS_LINEA_365|BUENOS AIRES|        30965|      3|\n",
            "| 06| 07|2021|BSAS_LINEA_203|BUENOS AIRES|        82131|      3|\n",
            "+---+---+----+--------------+------------+-------------+-------+\n",
            "only showing top 20 rows\n",
            "\n"
          ]
        }
      ]
    },
    {
      "cell_type": "markdown",
      "source": [
        "## **Guardar los datos para su análisis/procesamiento posterior**\n",
        "\n",
        "El último paso de nuestra limpieza de datos es guardar el marco de datos limpiado en un tipo de archivo. Si planeas hacer cualquier análisis o procesamiento posterior usando Spark, es muy recomendable que uses Parquet. Hay otras opciones disponibles según tus necesidades, pero Spark está optimizado para aprovechar Parquet.\n",
        "\n",
        "Hay dos opciones que utilizamos para el método `.write.parquet()`:\n",
        "\n",
        "- La ruta de donde escribir el archivo\n",
        "- Un parámetro opcional `mode`, que hemos establecido como `overwrite`. Esto permite a Spark escribir datos en una ubicación existente, resolviendo algunos problemas potenciales en un entorno de cuaderno."
      ],
      "metadata": {
        "id": "Z8RvN-P8UXh3"
      }
    },
    {
      "cell_type": "code",
      "source": [
        "# Save the data\n",
        "\n",
        "df_clean_2020.write.parquet('/tmp/pyspark/df_clean_2020.parquet')\n",
        "df_clean_2021.write.parquet('/tmp/pyspark/df_clean_2021.parquet')\n",
        "\n",
        "df_final_2020.write.parquet('/tmp/pyspark/df_final_2020.parquet')\n",
        "df_final_2021.write.parquet('/tmp/pyspark/df_final_2021.parquet')\n",
        "\n",
        "df_2020.write.parquet('/tmp/pyspark/df_2020.parquet')\n",
        "df_2021.write.parquet('/tmp/pyspark/df_2021.parquet')\n",
        "\n",
        "final_df_2020.write.parquet('/tmp/pyspark/final_df_2020.parquet')\n",
        "\n",
        "final_df_2021.write.parquet('/tmp/pyspark/final_df_2021.parquet')\n",
        "\n",
        "\n",
        "final_df_sub_2021.write.parquet('/tmp/pyspark/final_df_sub_2021.parquet')\n",
        "\n",
        "\n",
        "trans_provincia_2020_df.write.parquet('/tmp/pyspark/trans_provincia_2020_df.parquet')\n",
        "trans_provincia_2021_df.write.parquet('/tmp/pyspark/trans_provincia_2021_df.parquet')\n",
        "\n",
        "total_subsidios_df.write.parquet('/tmp/pyspark/total_subsidios_df.parquet')\n",
        "\n",
        "df_sub_x_hab.write.parquet('/tmp/pyspark/df_sub_x_hab.parquet')\n",
        "\n",
        "df_top_4_2020.write.parquet('/tmp/pyspark/df_top_4_2020.parquet')\n",
        "df_top_4_2021.write.parquet('/tmp/pyspark/df_top_4_2021.parquet')\n",
        "\n",
        "df_2020_2021.write.parquet('/tmp/pyspark/df_2020_2021.parquet')\n",
        "df_2020_2021_final.write.parquet('/tmp/pyspark/df_2020_2021_final.parquet')\n",
        "\n",
        "ranking_3_linea.write.parquet('/tmp/pyspark/ranking_3_linea.parquet')\n"
      ],
      "metadata": {
        "id": "RUAn8a4IUnx8"
      },
      "execution_count": null,
      "outputs": []
    },
    {
      "cell_type": "markdown",
      "source": [
        "Veamos ahora el contenido utilizando el comando de shell `ls`. Notarás que la ubicación `/tmp/pyspark/df_clean_2020.parquet` es en realidad un directorio, no sólo un archivo. Esto se debe a la forma en que Spark maneja su asignación de datos y su formato. "
      ],
      "metadata": {
        "id": "SAiEgFeEUxUn"
      }
    },
    {
      "cell_type": "code",
      "source": [
        "# Is file in directory?\n",
        "!ls /tmp/pyspark/df_clean_2020.parquet"
      ],
      "metadata": {
        "colab": {
          "base_uri": "https://localhost:8080/"
        },
        "id": "L0hwz_8-U9bf",
        "outputId": "665f093e-ece8-40e7-dfdb-f6ae0f1ccf85"
      },
      "execution_count": null,
      "outputs": [
        {
          "output_type": "stream",
          "name": "stdout",
          "text": [
            "part-00000-97a2c9cc-c7ff-4d75-a30f-ef4e8cca535d-c000.snappy.parquet  _SUCCESS\n",
            "part-00001-97a2c9cc-c7ff-4d75-a30f-ef4e8cca535d-c000.snappy.parquet\n"
          ]
        }
      ]
    },
    {
      "cell_type": "markdown",
      "source": [
        "Tenga en cuenta que, por lo general, al procesar los datos en Spark, querrá utilizar el formato Parquet, como se ha descrito anteriormente. Esto es genial para cualquier procesamiento o análisis posterior que planee hacer en Spark. Sin embargo, puede ser difícil leer los archivos Parquet fuera de Spark sin un trabajo extra. Por ello, vamos a crear una versión en formato CSV que podrás descargar si lo deseas.\n",
        "\n",
        "Tendremos que realizar cuatro pasos para esta operación:\n",
        "\n",
        "- Combinar los datos en un solo archivo utilizando la transformación `.coalesce(1)`. Spark normalmente mantiene los datos en archivos separados para mejorar el rendimiento y evitar problemas de RAM. Nuestro conjunto de datos es pequeño y podemos evitar estos problemas.\n",
        "- Utilizaremos el método `.write.csv()` (en lugar de `.write.parquet()`). También tenemos que definir un componente `header=True` para que nuestras columnas se nombren correctamente.\n",
        "- Por último, utilizaremos un comando especial específico para el entorno del cuaderno para descargar el archivo.\n",
        "\n",
        "Como has visto en Spark, puedes encadenar comandos. Como tal, combinaremos los dos primeros componentes."
      ],
      "metadata": {
        "id": "fCbs4NCEVPKD"
      }
    },
    {
      "cell_type": "code",
      "source": [
        "# Coalesce and save the data in CSV format\n",
        "\n",
        "df_clean_2020.coalesce(1).write.csv('/tmp/pyspark/df_clean_2020.csv')\n",
        "df_clean_2021.coalesce(1).write.csv('/tmp/pyspark/df_clean_2021.csv')\n",
        "\n",
        "df_final_2020.coalesce(1).write.csv('/tmp/pyspark/df_final_2020.csv')\n",
        "df_final_2021.coalesce(1).write.csv('/tmp/pyspark/df_final_2021.csv')\n",
        "\n",
        "df_2020.coalesce(1).write.csv('/tmp/pyspark/df_2020.csv')\n",
        "df_2021.coalesce(1).write.csv('/tmp/pyspark/df_2021.csv')\n",
        "\n",
        "final_df_2020.coalesce(1).write.csv('/tmp/pyspark/final_df_2020.csv')\n",
        "\n",
        "final_df_2021.coalesce(1).write.csv('/tmp/pyspark/final_df_2021.csv')\n",
        "\n",
        "\n",
        "final_df_sub_2021.coalesce(1).write.csv('/tmp/pyspark/final_df_sub_2021.csv')\n",
        "\n",
        "\n",
        "trans_provincia_2020_df.coalesce(1).write.csv('/tmp/pyspark/trans_provincia_2020_df.csv')\n",
        "trans_provincia_2021_df.coalesce(1).write.csv('/tmp/pyspark/trans_provincia_2021_df.csv')\n",
        "\n",
        "total_subsidios_df.coalesce(1).write.csv('/tmp/pyspark/total_subsidios_df.csv')\n",
        "\n",
        "df_sub_x_hab.coalesce(1).write.csv('/tmp/pyspark/df_sub_x_hab.csv')\n",
        "\n",
        "df_top_4_2020.coalesce(1).write.csv('/tmp/pyspark/df_top_4_2020.csv')\n",
        "df_top_4_2021.coalesce(1).write.csv('/tmp/pyspark/df_top_4_2021.csv')\n",
        "\n",
        "df_2020_2021.coalesce(1).write.csv('/tmp/pyspark/df_2020_2021.csv')\n",
        "df_2020_2021_final.coalesce(1).write.csv('/tmp/pyspark/df_2020_2021_final.csv')\n",
        "\n",
        "ranking_3_linea.coalesce(1).write.csv('/tmp/pyspark/ranking_3_linea.csv')"
      ],
      "metadata": {
        "id": "zVWOYppKVc6_"
      },
      "execution_count": null,
      "outputs": []
    },
    {
      "cell_type": "code",
      "source": [
        "# Look at the output of the command using the shell command `ls`\n",
        "!ls /tmp/pyspark/"
      ],
      "metadata": {
        "colab": {
          "base_uri": "https://localhost:8080/"
        },
        "id": "1DgaPMkdVkNg",
        "outputId": "52009176-7dea-4183-e406-010e4fd3b62c"
      },
      "execution_count": null,
      "outputs": [
        {
          "output_type": "stream",
          "name": "stdout",
          "text": [
            "df_2020_2021.csv\t    df_top_4_2020.csv\n",
            "df_2020_2021_final.csv\t    df_top_4_2020.parquet\n",
            "df_2020_2021_final.parquet  df_top_4_2021.csv\n",
            "df_2020_2021.parquet\t    df_top_4_2021.parquet\n",
            "df_2020.csv\t\t    final_df_2020.csv\n",
            "df_2020.parquet\t\t    final_df_2020.parquet\n",
            "df_2021.csv\t\t    final_df_2021.csv\n",
            "df_2021.parquet\t\t    final_df_2021.parquet\n",
            "df_clean_2020.csv\t    final_df_sub_2021.csv\n",
            "df_clean_2020.parquet\t    final_df_sub_2021.parquet\n",
            "df_clean_2021.csv\t    ranking_3_linea.csv\n",
            "df_clean_2021.parquet\t    ranking_3_linea.parquet\n",
            "df_final_2020.csv\t    total_subsidios_df.csv\n",
            "df_final_2020.parquet\t    total_subsidios_df.parquet\n",
            "df_final_2021.csv\t    trans_provincia_2020_df.csv\n",
            "df_final_2021.parquet\t    trans_provincia_2020_df.parquet\n",
            "df_sub_x_hab.csv\t    trans_provincia_2021_df.csv\n",
            "df_sub_x_hab.parquet\t    trans_provincia_2021_df.parquet\n"
          ]
        }
      ]
    },
    {
      "cell_type": "code",
      "source": [
        "# Rename the data file\n",
        "\n",
        "df_clean_2020.coalesce(1).write.option('header','true').csv('/tmp/pyspark/df_clean_2020.csv',mode='overwrite')\n",
        "df_clean_2021.coalesce(1).write.option('header','true').csv('/tmp/pyspark/df_clean_2021.csv',mode='overwrite')\n",
        "\n",
        "df_final_2020.coalesce(1).write.option('header','true').csv('/tmp/pyspark/df_final_2020.csv',mode='overwrite')\n",
        "df_final_2021.coalesce(1).write.option('header','true').csv('/tmp/pyspark/df_final_2021.csv',mode='overwrite')\n",
        "\n",
        "df_2020.coalesce(1).write.option('header','true').csv('/tmp/pyspark/df_2020.csv',mode='overwrite')\n",
        "df_2021.coalesce(1).write.option('header','true').csv('/tmp/pyspark/df_2021.csv',mode='overwrite')"
      ],
      "metadata": {
        "id": "t4JpGawN311W"
      },
      "execution_count": null,
      "outputs": []
    },
    {
      "cell_type": "code",
      "source": [
        "final_df_2020.coalesce(1).write.option('header','true').csv('/tmp/pyspark/final_df_2020.csv',mode='overwrite')\n",
        "\n",
        "final_df_2021.coalesce(1).write.option('header','true').csv('/tmp/pyspark/final_df_2021.csv',mode='overwrite')\n",
        "\n",
        "\n",
        "final_df_sub_2021.coalesce(1).write.option('header','true').csv('/tmp/pyspark/final_df_sub_2021.csv',mode='overwrite')\n",
        "\n",
        "\n",
        "trans_provincia_2020_df.coalesce(1).write.option('header','true').csv('/tmp/pyspark/trans_provincia_2020_df.csv',mode='overwrite')\n",
        "trans_provincia_2021_df.coalesce(1).write.option('header','true').csv('/tmp/pyspark/trans_provincia_2021_df.csv',mode='overwrite')\n",
        "\n",
        "total_subsidios_df.coalesce(1).write.option('header','true').csv('/tmp/pyspark/total_subsidios_df.csv',mode='overwrite')\n",
        "\n",
        "df_sub_x_hab.coalesce(1).write.option('header','true').csv('/tmp/pyspark/df_sub_x_hab.csv',mode='overwrite')\n",
        "\n",
        "df_top_4_2020.coalesce(1).write.option('header','true').csv('/tmp/pyspark/df_top_4_2020.csv',mode='overwrite')\n",
        "df_top_4_2021.coalesce(1).write.option('header','true').csv('/tmp/pyspark/df_top_4_2021.csv',mode='overwrite')\n",
        "\n",
        "df_2020_2021.coalesce(1).write.option('header','true').csv('/tmp/pyspark/df_2020_2021.csv',mode='overwrite')\n",
        "df_2020_2021_final.coalesce(1).write.option('header','true').csv('/tmp/pyspark/df_2020_2021_final.csv',mode='overwrite')\n",
        "\n",
        "ranking_3_linea.coalesce(1).write.option('header','true').csv('/tmp/pyspark/ranking_3_linea.csv',mode='overwrite')"
      ],
      "metadata": {
        "id": "iQWdrEYfVm_6"
      },
      "execution_count": null,
      "outputs": []
    },
    {
      "cell_type": "markdown",
      "source": [
        "## **Finalizar la sesión de Spark**"
      ],
      "metadata": {
        "id": "Kr9sIaeBFNrP"
      }
    },
    {
      "cell_type": "markdown",
      "source": [
        "Luego de haber trabajado con los datos procedemos a finalizar la sesión."
      ],
      "metadata": {
        "id": "6gXpp3aSFR0F"
      }
    },
    {
      "cell_type": "code",
      "source": [
        "spark.stop()"
      ],
      "metadata": {
        "id": "VCFn-gyjFW0-"
      },
      "execution_count": null,
      "outputs": []
    }
  ]
}